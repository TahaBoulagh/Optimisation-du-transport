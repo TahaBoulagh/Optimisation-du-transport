{
 "cells": [
  {
   "cell_type": "markdown",
   "id": "3c4c33f6",
   "metadata": {},
   "source": [
    "# <font color=blue><div align=\"center\">Projet Karhoo : Métaheuristique</div></font>"
   ]
  },
  {
   "cell_type": "markdown",
   "id": "932c3df5",
   "metadata": {},
   "source": [
    "## Importation des packages"
   ]
  },
  {
   "cell_type": "code",
   "execution_count": 1,
   "id": "256c35e4",
   "metadata": {},
   "outputs": [],
   "source": [
    "# Modules de base\n",
    "import numpy as np\n",
    "import matplotlib.pyplot as plt\n",
    "import random\n",
    "\n",
    "import copy\n",
    "# Module csv\n",
    "import csv\n",
    "\n",
    "#Module json\n",
    "import json"
   ]
  },
  {
   "cell_type": "markdown",
   "id": "3b04eaca",
   "metadata": {},
   "source": [
    "## Importation des datas"
   ]
  },
  {
   "cell_type": "markdown",
   "id": "0c18014d",
   "metadata": {},
   "source": [
    "### 1- Données journalières"
   ]
  },
  {
   "cell_type": "code",
   "execution_count": 2,
   "id": "bc223fcd",
   "metadata": {},
   "outputs": [],
   "source": [
    "# Small_sized_data : dict\n",
    "small_sized_data = \"C:/Users/Zineb/Downloads/day_data.json\"#insérer le chemin du fichier\n",
    "\n",
    "# Chargement des données: \n",
    "with open(small_sized_data) as SmallSizedData:\n",
    "    reader = json.load(SmallSizedData)\n",
    "    bookings = reader[\"bookings\"]\n",
    "    shifts = reader[\"shifts\"]"
   ]
  },
  {
   "cell_type": "markdown",
   "id": "d7e990c5",
   "metadata": {},
   "source": [
    "### 2- Identification entre les nom des stations et notre nomenclature\n"
   ]
  },
  {
   "cell_type": "code",
   "execution_count": 3,
   "id": "07d04e0f",
   "metadata": {},
   "outputs": [],
   "source": [
    "Stations_demandes={0:'s0'} #dictionaire qui lie chaque noeud avec la station réelle \n",
    "id_stations={}\n",
    "Nombre_de_commandes = n= 25 \n",
    "Nombres_de_shifts = 8\n",
    "for i in range (Nombre_de_commandes):\n",
    "    Stations_demandes[i+1]=bookings[i]['jobs'][0]['station']\n",
    "    id_stations[i+1]=bookings[i]['jobs'][0][\"id\"]\n",
    "    Stations_demandes[n+i+1]=bookings[i]['jobs'][1]['station']\n",
    "    id_stations[n+i+1]=bookings[i]['jobs'][1][\"id\"]\n",
    "    bookings[i]['id']=i+1\n",
    "    bookings[i]['jobs'][0]['station']=i+1\n",
    "    bookings[i]['jobs'][1]['station']=Nombre_de_commandes+i+1\n",
    "Stations_demandes[51]='s51'"
   ]
  },
  {
   "cell_type": "markdown",
   "id": "711aa7b3",
   "metadata": {},
   "source": [
    "### 2- Temps de trajets entre les noeuds"
   ]
  },
  {
   "cell_type": "code",
   "execution_count": 4,
   "id": "be214b89",
   "metadata": {},
   "outputs": [],
   "source": [
    "travel_time = \"C:/Users/Zineb/Downloads/travel_times4.csv\"  #insérer le chemin du fichier\n",
    "\n",
    "Time = {}\n",
    "\n",
    "number_of_s = 52\n",
    "\n",
    "with open(travel_time) as TravelTime:\n",
    "    reader = csv.DictReader(TravelTime)\n",
    "    for row in reader:\n",
    "        b = int(row['station'])\n",
    "        for sId in range(0, number_of_s +1):\n",
    "            Time[(b,sId)] = float(row[f's{sId}'])\n",
    "            \n",
    "time = {}\n",
    "stations = range(52)\n",
    "for i in stations:\n",
    "    for j in stations:\n",
    "        d = int(Stations_demandes[i][1:])\n",
    "        a = int(Stations_demandes[j][1:])\n",
    "        time[(i, j)] = Time[(d, a)]\n"
   ]
  },
  {
   "cell_type": "markdown",
   "id": "406c817d",
   "metadata": {},
   "source": [
    "## Préparation des datas"
   ]
  },
  {
   "cell_type": "markdown",
   "id": "7e75f237",
   "metadata": {},
   "source": [
    "### 1- Dictionnaire des charges"
   ]
  },
  {
   "cell_type": "code",
   "execution_count": 5,
   "id": "76eda6b7",
   "metadata": {},
   "outputs": [],
   "source": [
    "#nombre de commandes\n",
    "n_req=25 \n",
    "n_shift=8\n",
    "\n",
    "#dict des charges:\n",
    "load=[0,]\n",
    "for r in range(n_req):\n",
    "    a=int(bookings[r][\"passengers\"])\n",
    "    load.append(a)\n",
    "for r in range(n_req):\n",
    "    a=int(bookings[r][\"passengers\"])\n",
    "    load.append(-a)\n",
    "load.append(0)\n",
    "#print(load)"
   ]
  },
  {
   "cell_type": "markdown",
   "id": "340262ca",
   "metadata": {},
   "source": [
    "### 2- Liste des durées maximales autorisées"
   ]
  },
  {
   "cell_type": "code",
   "execution_count": 6,
   "id": "9acb9853",
   "metadata": {},
   "outputs": [],
   "source": [
    "maximumDuration=[np.inf]\n",
    "for i in range(n_req):\n",
    "    m=bookings[i][\"maximumDuration\"]\n",
    "    maximumDuration.append(m)\n"
   ]
  },
  {
   "cell_type": "markdown",
   "id": "2ff08a43",
   "metadata": {},
   "source": [
    "### 3- Dictionnaire des fenêtres de temps"
   ]
  },
  {
   "cell_type": "code",
   "execution_count": 7,
   "id": "896b2d69",
   "metadata": {},
   "outputs": [],
   "source": [
    "#dict des time window \n",
    "e={}\n",
    "l={}\n",
    "for i in range (25):\n",
    "    E=bookings[i]['jobs'][0]['timeWindowBeginDate']\n",
    "    L=bookings[i]['jobs'][0]['timeWindowEndDate']\n",
    "    e[i+1]=E\n",
    "    l[i+1]=L\n",
    "for i in range (25):\n",
    "    E=bookings[i]['jobs'][1]['timeWindowBeginDate']\n",
    "    L=bookings[i]['jobs'][1]['timeWindowEndDate']   \n",
    "    e[n_req+i+1]=E\n",
    "    l[n_req+i+1]=L\n",
    "\n",
    "e[0]=min(min(e[i]-time[0,i] for i in range(1,26)),min(shifts[k][\"jobs\"][0][\"timeDate\"] for k in range(8)))\n",
    "e[51]=min(min(e[i]-time[51,i] for i in range(1,26)),min(shifts[k][\"jobs\"][0][\"timeDate\"] for k in range(8)))\n",
    "l[0]=max(max(l[i]-time[i,0] for i in range(26,51)),max(shifts[k][\"jobs\"][1][\"timeDate\"] for k in range(8)))\n",
    "l[51]=max(max(l[i]-time[i,51] for i in range(26,51)),max(shifts[k][\"jobs\"][1][\"timeDate\"] for k in range(8)))\n",
    "#print(e[0],e[51],l[0],l[51])"
   ]
  },
  {
   "cell_type": "markdown",
   "id": "75815219",
   "metadata": {},
   "source": [
    "## solution initiale taha"
   ]
  },
  {
   "cell_type": "markdown",
   "id": "2c8297a9",
   "metadata": {},
   "source": [
    "# Construction de la solution réalisable"
   ]
  },
  {
   "cell_type": "markdown",
   "id": "1b797c80",
   "metadata": {},
   "source": [
    "Nous allons tout d'abord construire une solution qui respecte tous les contraintes mais avec ne réponds pas à toutes les damandes:\n",
    "\n",
    "- Chaque route doit commencer et finir aux depôts,\n",
    "- Pour chaque commande le noeud $i$ et $n+i$ sont attribués au même chauffeur."
   ]
  },
  {
   "cell_type": "markdown",
   "id": "0eca9f30",
   "metadata": {},
   "source": [
    "## Construction de la solution initiale"
   ]
  },
  {
   "cell_type": "markdown",
   "id": "103913e1",
   "metadata": {},
   "source": [
    "Nous allons dans un premier temps trier la liste des chauffeurs selon les horraires de départs, ceci ne facilitera l'affectation des premiére courses aux chauffeurs et de garantir que les marges de temps sont respecté et que les chauffeurs n'ont pas des temps d'atttente trés grand.\n",
    "<section> Remarque : Malgré que nous n'avons pas de contrainte sur le temps d'attente des chauffeurs mais la minimisation de ce dernier nous permettera de minimiser le coût total de la course."
   ]
  },
  {
   "cell_type": "code",
   "execution_count": 8,
   "id": "6e379422",
   "metadata": {},
   "outputs": [],
   "source": [
    "#Trie des début de shifts de chaque chauffeur par ordre décroissant\n",
    "def classementChauffeurs(n):\n",
    "    shift = {}\n",
    "    for i in range(n):\n",
    "        shift[i+1] = shifts[i][\"jobs\"][0][\"timeDate\"]\n",
    "    L = list()\n",
    "    for i in shift.values():\n",
    "        L.append(i)\n",
    "    L.sort(reverse = True)\n",
    "    shift_trie = {}\n",
    "    for i in L:\n",
    "        for cle in shift.keys():\n",
    "            if i == shift[cle]:\n",
    "                shift_trie[cle] = i\n",
    "    return shift_trie\n",
    "\n"
   ]
  },
  {
   "cell_type": "code",
   "execution_count": 9,
   "id": "cd00d084",
   "metadata": {},
   "outputs": [],
   "source": [
    "def listeBookings(n):\n",
    "    book = {}\n",
    "    for i in range(n):\n",
    "        book[i+1] = bookings[i][\"jobs\"][0][\"timeWindowBeginDate\"]\n",
    "\n",
    "    return book"
   ]
  },
  {
   "cell_type": "code",
   "execution_count": 10,
   "id": "32c7e378",
   "metadata": {},
   "outputs": [],
   "source": [
    "#print(listeBookings(n_req))"
   ]
  },
  {
   "cell_type": "code",
   "execution_count": 11,
   "id": "e09f3fc6",
   "metadata": {},
   "outputs": [],
   "source": [
    "def listeBookings2(n):\n",
    "    book2 = {}\n",
    "    for i in range(n):\n",
    "        book2[i+1] = bookings[i][\"jobs\"][1][\"timeWindowEndDate\"]\n",
    "        \n",
    "    return book2"
   ]
  },
  {
   "cell_type": "code",
   "execution_count": 12,
   "id": "8100ff04",
   "metadata": {},
   "outputs": [],
   "source": [
    "#print(listeBookings2(n_req))"
   ]
  },
  {
   "cell_type": "code",
   "execution_count": 13,
   "id": "c33227a6",
   "metadata": {},
   "outputs": [],
   "source": [
    "def initialisation(shift, bookings):\n",
    "    \n",
    "    book = copy.copy(bookings)\n",
    "\n",
    "    nb_pick = len(book)           #Dernier pickup\n",
    "    nb_noeuds = nb_pick*2 + 1     #Dernier dropoff\n",
    "    \n",
    "    Chauffeurs = {}\n",
    "    \n",
    "    for p in range(1,len(shift)+1):   #Création des listes des noeuds à visiter pour chaque chauffeur \n",
    "        Chauffeurs[p] = []\n",
    "    \n",
    "    \n",
    "    for h in shift:\n",
    "        b = 1000000 \n",
    "        maxi = 0\n",
    "        for k in book:\n",
    "            if book[k] > maxi:\n",
    "                maxi = book[k]     #Détermination du dernier pickup (en temps)\n",
    "        if maxi==0:\n",
    "            break\n",
    "        for i in book:\n",
    "            delta_1 = book[i] - shift[h] #Calcul de la différence de temps entre le départ du chauffeur et le pickup\n",
    "            if delta_1 > time[h,i]:              #Cette différence doit-être positive pour pas qu'il puisse remonter le temps\n",
    "                if b > delta_1 :\n",
    "                    b = delta_1 \n",
    "                    noeud = i\n",
    "                    \n",
    "        \n",
    "        Chauffeurs[h].append(0)             #Ajout du noeud 0\n",
    "        Chauffeurs[h].append(noeud)\n",
    "        Chauffeurs[h].append(noeud+nb_pick)\n",
    "        Chauffeurs[h].append(nb_noeuds)\n",
    "        \n",
    "        for m in Chauffeurs[h]:                 #Elimination des noeuds attribués dans la liste des pickup\n",
    "            if m != 0:\n",
    "                if m in range(1,nb_pick+1):\n",
    "                    del book[m]\n",
    "        \n",
    "        \n",
    "    return Chauffeurs"
   ]
  },
  {
   "cell_type": "code",
   "execution_count": 14,
   "id": "2d78ab36",
   "metadata": {},
   "outputs": [
    {
     "name": "stdout",
     "output_type": "stream",
     "text": [
      "{1: [0, 19, 44, 51], 2: [0, 22, 47, 51], 3: [0, 9, 34, 51], 4: [0, 7, 32, 51], 5: [0, 8, 33, 51], 6: [0, 21, 46, 51], 7: [0, 15, 40, 51], 8: [0, 23, 48, 51]}\n"
     ]
    }
   ],
   "source": [
    "s1 = initialisation(classementChauffeurs(n_shift),listeBookings(n_req))\n",
    "print(s1)"
   ]
  },
  {
   "cell_type": "markdown",
   "id": "f052c2d3",
   "metadata": {},
   "source": [
    "## Définition des contraintes "
   ]
  },
  {
   "cell_type": "markdown",
   "id": "531900f7",
   "metadata": {},
   "source": [
    "### 1- Initialisation des contraintes"
   ]
  },
  {
   "cell_type": "code",
   "execution_count": 15,
   "id": "e7a9491e",
   "metadata": {},
   "outputs": [],
   "source": [
    "def AA(s,chauffeur):         #the arrival time of a vehicle at vertex\n",
    "    Trajet=s[chauffeur]\n",
    "    A={}\n",
    "    d=shifts[chauffeur-1]['jobs'][0]['timeDate']\n",
    "    A={0: d}\n",
    "    for i in range (1,len(Trajet)):\n",
    "        d+=time[Trajet[i-1],Trajet[i]]\n",
    "        A[Trajet[i]]=d\n",
    "    return A\n",
    "\n",
    "def BB(s,chauffeur,i): #beginning of service at vertex i\n",
    "    if i in s[chauffeur]:\n",
    "        B=max(e[i],AA(s,chauffeur)[i])\n",
    "        return B\n",
    "\n",
    "def DD(s,chauffeur,i): #the departure time from vertex i\n",
    "    if i!=0 and i!=2*n_req+1:\n",
    "        if i<n_req+1:\n",
    "            return(BB(s,chauffeur,i)-bookings[i-1][\"jobs\"][0][\"duration\"])\n",
    "        else: \n",
    "            return(BB(s,chauffeur,i)-bookings[i-n_req-1][\"jobs\"][1][\"duration\"])\n",
    "        \n",
    "def LL(s,chauffeur,i): #The ride time associated with request i\n",
    "    return (BB(s,chauffeur,i+n_req)-DD(s,chauffeur,i))"
   ]
  },
  {
   "cell_type": "code",
   "execution_count": 16,
   "id": "9209def6",
   "metadata": {},
   "outputs": [],
   "source": [
    "s=s1\n",
    "#dictionaire qui contient les  temps d'arrivées à chaque noeud dans la route de chaque chaffeur k\n",
    "\n",
    "def constrA(s):\n",
    "    A={}\n",
    "    for driver in s:\n",
    "        A[driver]=[]\n",
    "        arival=AA(s,driver)\n",
    "        for u in arival :\n",
    "            A[driver].append(arival[u])\n",
    "    return(A)\n",
    "A=constrA(s)\n",
    "#dictionaire qui contient les begin time de chaque noeud dans la route de chaque chaffeur k\n",
    "def constrB(s):\n",
    "    B={}\n",
    "    for driver in s:\n",
    "        B[driver]=[]\n",
    "        for i in s[driver]:\n",
    "            B[driver].append(BB(s,driver,i))\n",
    "    return(B)\n",
    "B=constrB(s)\n",
    "#dictionaire qui contient les  temps de deppart de chaque noeud dans la route de chaque chaffeur k\n",
    "def constrD(s):\n",
    "    D={}\n",
    "    for driver in s:\n",
    "        D[driver]=[A[driver][0]]\n",
    "        for i in s[driver]:\n",
    "            if i!=0 and i!=2*n_req+1:\n",
    "                D[driver].append(DD(s,driver,i))\n",
    "        D[driver].append(A[driver][-1])\n",
    "    return(D)\n",
    "D=constrD(s)\n",
    "#dictionaire qui contient les  temps d'attente de chaque noeud dans la route de chaque chaffeur k\n",
    "def constrW(s,B,A):\n",
    "    W={}\n",
    "    for driver in s:\n",
    "        W[driver]=[]\n",
    "        for i in range(len(s[driver])):\n",
    "            W[driver].append(B[driver][i]-A[driver][i])\n",
    "    return W\n",
    "W=constrW(s,B,A)\n",
    "            \n",
    "        "
   ]
  },
  {
   "cell_type": "markdown",
   "id": "dcf4a2cc",
   "metadata": {},
   "source": [
    "### 2- Ecriture des contraintes"
   ]
  },
  {
   "cell_type": "code",
   "execution_count": 17,
   "id": "92cef450",
   "metadata": {},
   "outputs": [],
   "source": [
    "def pos(x):\n",
    "    return(max(x,0))\n",
    "\n",
    "def load_voilation(s,chauffeur): #violation of load cost   #s={k:[0,i,....,i+n_req,51]}\n",
    "    v=0\n",
    "    Q=int(shifts[chauffeur-1][\"capacity\"])\n",
    "    cte=0\n",
    "    Trajet=s[chauffeur]\n",
    "    for i in Trajet:\n",
    "        cte+=load[i]\n",
    "        if cte>Q:\n",
    "            v+=cte-Q\n",
    "    return v\n",
    "\n",
    "def window_contrainte(B,chauffeur,i): #Contrainte sur la fenêtre de temps\n",
    "    S=0\n",
    "    S+=pos(B[chauffeur][i]-l[s[chauffeur][i]])\n",
    "    #S+=pos(BB(s,chauffeur,i)-l[i])\n",
    "    return (S)\n",
    "\n",
    "def time_contrainte(s,chauffeur,i): #violation of time constraints\n",
    "    S=0\n",
    "    noeud_depart=s[chauffeur][i]\n",
    "    if noeud_depart<n_req and noeud_depart!=0 :\n",
    "  \n",
    "        noeud_arrive=n_req+noeud_depart\n",
    "        i_arrive=s[chauffeur].index(noeud_arrive)\n",
    "        ll=B[chauffeur][i_arrive]-D[chauffeur][i]\n",
    "        S+= pos(ll-bookings[noeud_depart-1][\"maximumDuration\"])\n",
    "        return(S)\n",
    "    else:\n",
    "        return(0)\n",
    "        \n",
    "def salary(s,chauffeur): #salary constaraint\n",
    "    max=shifts[0][\"maximumTurnover\"]\n",
    "    R=0\n",
    "    S=0\n",
    "    for i in s[chauffeur]:\n",
    "        if i<26 and i!=0 :\n",
    "            S+= bookings[i-1]['price']\n",
    "        if S>max:\n",
    "            R+=S-max\n",
    "    return R"
   ]
  },
  {
   "cell_type": "code",
   "execution_count": 18,
   "id": "68925778",
   "metadata": {},
   "outputs": [],
   "source": [
    "def verification_contraintes(s,chauffeur,k): #pour verifier la faisabilité des mouvements d'insertion \n",
    "    \n",
    "    if load_voilation(s,chauffeur) != 0:\n",
    "        return False\n",
    "    \n",
    "    if salary(s,chauffeur) != 0:\n",
    "        return False\n",
    "    \n",
    "    return True"
   ]
  },
  {
   "cell_type": "markdown",
   "id": "2a1be25c",
   "metadata": {},
   "source": [
    "## Insertion Router - Allow Unassigned (IRAU)"
   ]
  },
  {
   "cell_type": "markdown",
   "id": "cb50cf92",
   "metadata": {},
   "source": [
    "<section> Afin d'ameliorer notre initiale en inserant des courses pour chaque chauffeur tout en minimisant le coût de route, nous allons procéder avec un algorithme d'insertion qui permet d'insérer à chaque itération des courses dans la position qui minimise le coût de route si ceci est possible, sinon cette commande sera stocker dans une liste des commandes non servies. <section>"
   ]
  },
  {
   "cell_type": "markdown",
   "id": "f7fa2024",
   "metadata": {},
   "source": [
    "### 1- Définition des mouvements possibles "
   ]
  },
  {
   "cell_type": "markdown",
   "id": "4e628e8b",
   "metadata": {},
   "source": [
    "Ces fonctions vont nous servir dans le processus d'insertion, afin de déplacer les horaires du départ et du commencement de service pour chaque noeud impacter par l'inserion de le nouvelle commande dans la route du chauffeur."
   ]
  },
  {
   "cell_type": "code",
   "execution_count": 19,
   "id": "20e09725",
   "metadata": {},
   "outputs": [],
   "source": [
    "def aMove(s,j,i,chauffeur,shift,B,D,W):\n",
    "    B[chauffeur][j] = B[chauffeur][j] - shift  \n",
    "    D[chauffeur][j] = B[chauffeur][j] + bookings[0][\"maximumDuration\"]\n",
    "    u = j+1\n",
    "    A=constrA(s)\n",
    "    while u <= i :\n",
    "        B[chauffeur][u] = B[chauffeur][u] - shift\n",
    "        W[chauffeur][u] = B[chauffeur][u] - A[chauffeur][u]\n",
    "        D[chauffeur][u] = B[chauffeur][u] + bookings[0][\"maximumDuration\"]\n",
    "        u = u + 1 \n",
    "    return(B,D,W)\n",
    "        \n",
    "def bMove(s,j,i,chauffeur,shift,B,D,W):\n",
    "    B[chauffeur][i] = B[chauffeur][i] + shift\n",
    "    D[chauffeur][i] = B[chauffeur][i] + bookings[0][\"maximumDuration\"]\n",
    "    o = i+1\n",
    "    A=constrA(s)\n",
    "    while o <= j:\n",
    "        B[chauffeur][o] = B[chauffeur][o] + shift\n",
    "        W[chauffeur][o] = B[chauffeur][o] - A[chauffeur][o]\n",
    "        D[chauffeur][o] = B[chauffeur][o] + bookings[0][\"maximumDuration\"]\n",
    "        o += 1 \n",
    "    return (B,D,W)\n",
    "def cMove(s,i,j,chauffeur,shift,B,D,W):\n",
    "    B[chauffeur][i] = B[chauffeur][i] + shift\n",
    "    D[chauffeur][i] = B[chauffeur][i] + bookings[0][\"maximumDuration\"]\n",
    "    v = i+1\n",
    "    A=constrA(s)\n",
    "    while v <= j and v!=len(s[k]):\n",
    "        if s[chauffeur][v] <= n_req:\n",
    "            B[chauffeur][v] = max(A[chauffeur][v],B[chauffeur][v])\n",
    "\n",
    "        else:\n",
    "            B[chauffeur][v] = max(A[chauffeur][v],e[s[chauffeur][v]])\n",
    "            \n",
    "        W[chauffeur][v] = B[chauffeur][v] - A[chauffeur][v]\n",
    "        D[chauffeur][v] = B[chauffeur][v] + bookings[0][\"maximumDuration\"]\n",
    "        v = v + 1 \n",
    "    return (B,D,W)"
   ]
  },
  {
   "cell_type": "markdown",
   "id": "fd54ea64",
   "metadata": {},
   "source": [
    "### 2- Définition de la fonction de coût"
   ]
  },
  {
   "cell_type": "code",
   "execution_count": 20,
   "id": "40769b20",
   "metadata": {},
   "outputs": [],
   "source": [
    "#def cost#(s,k): #Total routing cost\n",
    "#    c=0\n",
    "#    for l in s:\n",
    "#        for i in range(len(s[l])-1):\n",
    "#            c+=time[(s[l][i],s[l][i+1])]\n",
    "#    return c\n",
    "#"
   ]
  },
  {
   "cell_type": "code",
   "execution_count": 21,
   "id": "73a96c75",
   "metadata": {},
   "outputs": [],
   "source": [
    "def cost(s,k):\n",
    "    c=0\n",
    "    for i in s[k]:\n",
    "        if i!=2*n_req+1:\n",
    "            c+=time[(i,i+1)]\n",
    "    return c\n",
    "        "
   ]
  },
  {
   "cell_type": "markdown",
   "id": "5ae28835",
   "metadata": {},
   "source": [
    "### 3- Définition des 3 cas d'insertion possibles "
   ]
  },
  {
   "cell_type": "code",
   "execution_count": 22,
   "id": "3bb794ad",
   "metadata": {},
   "outputs": [],
   "source": [
    "#Definition des variables intermédiaire\n",
    "\n",
    "def Pplus(s,k,i):\n",
    "    P=[]\n",
    "    for j in range(i+1):\n",
    "        P.append(l[s[k][j]]-B[k][j])\n",
    "    p=min(u for u in P)\n",
    "    return p\n",
    "    \n",
    "        \n",
    "def Pmoins(s,k,i):\n",
    "    P=[]\n",
    "    for j in range(i+1):\n",
    "        P.append(B[k][j]-e[s[k][j]])\n",
    "    p=min(u for u in P)\n",
    "    return p\n",
    "\n",
    "\n",
    "def Splus(s,k,i):\n",
    "    \n",
    "    L=[]\n",
    "    for j in range(i,len(B[k])):\n",
    "        somme=0\n",
    "        for p in range(i+1,j+1):\n",
    "            somme+=W[k][p]\n",
    "        L.append(somme+l[s[k][j]]-B[k][j])\n",
    "    if L != []:\n",
    "        return min(u for u in L)\n",
    "    return 0\n",
    "def Smoins(s,k,i):\n",
    "    P=[]\n",
    "    for j in range(i,len(B[k])):\n",
    "        P.append(B[k][j]-e[s[k][j]])\n",
    "    p=min(u for u in P)\n",
    "    return p\n",
    "\n",
    "            "
   ]
  },
  {
   "cell_type": "code",
   "execution_count": 23,
   "id": "fb8c38db",
   "metadata": {},
   "outputs": [
    {
     "name": "stdout",
     "output_type": "stream",
     "text": [
      "17059.0\n"
     ]
    }
   ],
   "source": [
    "print( B[1][len(s[1])-1]-e[s[1][len(s[1])-1]])"
   ]
  },
  {
   "cell_type": "code",
   "execution_count": 24,
   "id": "56f3867c",
   "metadata": {},
   "outputs": [],
   "source": [
    "dd=bookings[i-1][\"jobs\"][0][\"duration\"]"
   ]
  },
  {
   "cell_type": "code",
   "execution_count": 25,
   "id": "674661c3",
   "metadata": {},
   "outputs": [],
   "source": [
    "def AI(s2,i,k,q,d,b,w):\n",
    "    B=copy.copy(b)\n",
    "    D=copy.copy(d)\n",
    "    W=copy.copy(w)\n",
    "    s=copy.copy(s2)\n",
    "    s[k]=s[k][:i]+[q]+s[k][i:]\n",
    "    D[k]=D[k][:i]+[B[k][i+1]-time[(q,s[k][i])]]+D[k][i:]\n",
    "    A=constrA(s)\n",
    "    #D[k][i]=B[k][i+1]-time[(q,s[k][i])]\n",
    "    B[k]=B[k][:i]+[D[k][i]-bookings[i-1][\"jobs\"][0][\"duration\"]]+B[k][i:]\n",
    "    #B[k][i]=D[k][i]-bookings[i-1][\"jobs\"][0][\"duration\"]\n",
    "    D[k][0]=B[k][i]-time[(0,i)]\n",
    "    qq=len(B[k])-2\n",
    "    \n",
    "    if verification_contraintes(s,k,i):\n",
    "\n",
    "        if window_contrainte(B,k,i)>0: #Is the time window of si violated? yes\n",
    "            if B[k][i]<e[i]:#yes\n",
    "                viol=e[i]-B[k][i]\n",
    "                shift1=min(viol, Splus(s,k,i))\n",
    "                B,D,W=cMove(s,i,qq,k,shift1,B,D,W)\n",
    "                D[k][0],B[k][qq+1] = D[k][0]+shift1,B[k][qq+1]+shift1\n",
    "                if window_contrainte(B,k,i)>0: #Is the time window of si violated? yes\n",
    "                    return (np.inf,s1,d,b,w)\n",
    "                else:\n",
    "                    return (cost(s,k),s,D,B,W)\n",
    "\n",
    "            else: #no\n",
    "                viol=B[k][i]-l[s[k][i]]\n",
    "                shift1=min(viol, Smoins(s,k,i))\n",
    "                B,D,W=aMove(s,i,qq,k,shift1,B,D,W)\n",
    "                D[k][0],B[k][qq+1] = D[k][0]-shift1,B[k][qq+1]-shift1\n",
    "               \n",
    "                if window_contrainte(B,k,i)>0: #Is the time window of si violated? yes\n",
    "                    shift2=pos(viol-shift1)\n",
    "                    B[k][i]=B[k][i]-shift2\n",
    "                    D[k][0]=D[k][0]-shift2\n",
    "                    D[k][i]=D[k][i]-shift2\n",
    "                    W[k][i]-=shift2\n",
    "                    W[k][i+1]-=shift2\n",
    "                    \n",
    "                    if window_contrainte(B,k,i)>0: #Is the time window of si violated? yes:\n",
    "                        return(np.inf,s1,d,b,w)\n",
    "                    else:\n",
    "                        return(cost(s,k),s,D,B,W)\n",
    "                else:\n",
    "                    return (np.inf,s1,d,b,w)         \n",
    "        else: #Is the time window of si violated? no\n",
    "            return(cost(s,k),s,D,B,W)\n",
    "        \n",
    "    else:\n",
    "        return (np.inf,s1,d,b,w)\n"
   ]
  },
  {
   "cell_type": "markdown",
   "id": "79a93feb",
   "metadata": {},
   "source": [
    "###### test AI"
   ]
  },
  {
   "cell_type": "code",
   "execution_count": 26,
   "id": "e74821cc",
   "metadata": {},
   "outputs": [
    {
     "data": {
      "text/plain": [
       "(3651.0,\n",
       " {1: [0, 19, 44, 51],\n",
       "  2: [0, 22, 47, 51],\n",
       "  3: [0, 9, 34, 51],\n",
       "  4: [0, 7, 32, 51],\n",
       "  5: [0, 2, 8, 33, 51],\n",
       "  6: [0, 21, 46, 51],\n",
       "  7: [0, 15, 40, 51],\n",
       "  8: [0, 23, 48, 51]},\n",
       " {1: [45000, 46032.0, 47090.0, 48259.0],\n",
       "  2: [31200, 32640, 32778.0, 33749.0],\n",
       "  3: [52200, 53640, 53640, 54085.0],\n",
       "  4: [36600, 41964, 41964, 38635.0],\n",
       "  5: [49622.0, 50524.0, 50032, 50464.0, 51531.0],\n",
       "  6: [34800, 36240, 36240, 36885.0],\n",
       "  7: [48600, 49253.0, 50019.0, 51112.0],\n",
       "  8: [31200, 35340, 35340, 33306.0]},\n",
       " {1: [45000, 46092.0, 47150.0, 48259.0],\n",
       "  2: [31200, 32700, 32838.0, 33749.0],\n",
       "  3: [52200, 53700, 53700, 54085.0],\n",
       "  4: [36600, 42024, 42024, 38635.0],\n",
       "  5: [48600, 50464.0, 50092, 50524.0, 51531.0],\n",
       "  6: [34800, 36300, 36300, 36885.0],\n",
       "  7: [48600, 49313.0, 50079.0, 51112.0],\n",
       "  8: [31200, 35400, 35400, 33306.0]},\n",
       " {1: [0, 0.0, 0.0, 0.0],\n",
       "  2: [0, 636.0, 0.0, 0.0],\n",
       "  3: [0, 1371.0, 467.0, 0.0],\n",
       "  4: [0, 5038.0, 4496.0, 0.0],\n",
       "  5: [0, 400.0, 0.0, 0.0],\n",
       "  6: [0, 1022.0, 448.0, 0.0],\n",
       "  7: [0, 0.0, 0.0, 0.0],\n",
       "  8: [0, 3722.0, 3024.0, 0.0]})"
      ]
     },
     "execution_count": 26,
     "metadata": {},
     "output_type": "execute_result"
    }
   ],
   "source": [
    "q=2\n",
    "AI(s1,1,5,q,D,B,W)"
   ]
  },
  {
   "cell_type": "code",
   "execution_count": 27,
   "id": "78289374",
   "metadata": {},
   "outputs": [],
   "source": [
    "def foctionAII(s,k,i,B,D,W):\n",
    "    if verification_contraintes(s,k,i):\n",
    "            if window_contrainte(s,k,i)>0:#Is the time window of si violated? yes\n",
    "                if B[k][i]<e[s[k][i]]:\n",
    "                    viol=e[s[k][i]]-B[k][i]\n",
    "                    shift3=min(viol,Pplus(s,k,s[k][-2]))\n",
    "                    B,D,W=bMove(s,1,len(s[k])-2,k,shift3,B,D,W)\n",
    "                    D[k][0],B[k][-1] = D[k][0]+shift3,B[k][-1]+shift3\n",
    "                    if verification_contraintes(s,k,i)== True:\n",
    "                        if window_contrainte(s,k,i)>0 :#Is the time window of si violated? yes\n",
    "                            shift4=min(viol-shift3,Splus(s,k,i))\n",
    "                            B,D,W=cMove(s,i,len(s[k])-2,k,shift4,B,D,W)\n",
    "                            B[k][-1] = B[k][-1]+shift4\n",
    "\n",
    "                            if window_contrainte(s,k,i)>0 and verification_contraintes(s,k,i)!= True:#Is the time window of si violated? yes\n",
    "                                return(np.inf,s,D,B,W)\n",
    "                            else:\n",
    "                                return(cost(s,k),s,D,B,W)\n",
    "\n",
    "                        else:\n",
    "                            return(cost(s,k),s,D,B,W)\n",
    "                    else :\n",
    "                        return(np.inf,s,D,B,W)\n",
    "                else:\n",
    "                    viol=B[k][i]-l[s[k][i]]\n",
    "                    shift3=min(viol,Smoins(s,k,1))\n",
    "                    B[k][-1]-=shift3\n",
    "                    B,D,W=aMove(s,1,len(s[k])-2,k,shift3,B,D,W)\n",
    "                    D[k][0] = D[k][0]-shift3\n",
    "                    if window_contrainte(s,k,i)>0 and verification_contraintes(s,k,i)!= True:#Is the time window of si violated? yes\n",
    "                        if s[k][i+1]>n_req: #is Si+1 a destination stop yes\n",
    "                                return(np.inf,s,D,B,W)\n",
    "                        else:\n",
    "\n",
    "                            shift4=min(viol-shift3,Pmoins(s,k,i-1))\n",
    "                            B,D,W=aMove(s,1,i-1,k,shift4,B,D,W)\n",
    "                            D[k][0],B[k][i] = D[k][0]-shift4,B[k][i]-shift4\n",
    "                            D[k][i],W[k][i],W[k][i+1] = D[k][i]-shift4,W[k][i]-shift4,W[k][i+1]-shift4\n",
    "\n",
    "                            if window_contrainte(s,k,i)>0 and verification_contraintes(s,k,i)!= True:#Is the time window of si violated? yes\n",
    "                                return(np.inf,s,D,B,W)\n",
    "                            else:\n",
    "                                return(cost(s,k),s,D,B,W)\n",
    "\n",
    "                    else:\n",
    "                        return(cost(s,k),s,D,B,W)\n",
    "\n",
    "            else: #Is the time window of si violated? no\n",
    "                return(cost(s,k),s,D,B,W)\n",
    "    else:\n",
    "        return (np.inf,s,D,B,W)"
   ]
  },
  {
   "cell_type": "code",
   "execution_count": 28,
   "id": "92310255",
   "metadata": {},
   "outputs": [],
   "source": [
    "def AII(s2,i,k,q,d,b,w):\n",
    "    B=copy.copy(b)\n",
    "    D=copy.copy(d)\n",
    "    W=copy.copy(w)\n",
    "    s=copy.copy(s2)\n",
    "    s[k]=s[k][:i]+[q]+s[k][i:]\n",
    "    A=constrA(s)\n",
    "    noeud=s[k][i-1]\n",
    "    if noeud<= n_req:\n",
    "        dd=bookings[noeud][\"jobs\"][0][\"duration\"]\n",
    "    if noeud> n_req:\n",
    "        dd=bookings[n_req-noeud][\"jobs\"][1][\"duration\"]\n",
    "    dur=time[(s[k][i-1],q)]+dd+time[(q,s[k][i+1])]-time[(s[k][i-1],s[k][i+1])]-(B[k][i+1]-D[k][i-1])\n",
    "    if dur<=0:#yes\n",
    "        if s[k][i]<=n_req: #Is si an origin stop? yes\n",
    "            D[k]=D[k][:i]+[B[k][i+1]-time[(q,s[k][i+1])]]+D[k][i:]\n",
    "            B[k]=B[k][:i]+[D[k][i]+dd]+B[k][i:]\n",
    "            W[k]=W[k][:i]+[B[k][i]-A[k][i]]+W[k][i:]\n",
    "            W[k][i+1]=B[k][i+1]-A[k][i+1]\n",
    "            (costt,s1,D1,B1,W1)=foctionAII(s,k,i,B,D,W)\n",
    "            return (costt,s1,D1,B1,W1)\n",
    "            \n",
    "            \n",
    "        else: #si est un depot\n",
    "            B[k]=B[k][:i]+[D[k][i-1]+time[(s[k][i-1],q)]]+B[k][i:]\n",
    "            D[k]=D[k][:i]+[B[k][i]+dd]+D[k][i:]\n",
    "            W[k][i]=W[k][:i]+[0]+W[k][i:]\n",
    "            W[k][i+1]=B[k][i+1]-A[k][i+1]\n",
    "            (costt,s1,D1,B1,W1)=foctionAII(s,k,i,B,D,W)\n",
    "            return (costt,s1,D1,B1,W1)\n",
    "    \n",
    "    \n",
    "    else:\n",
    "        if dur<=Pmoins(s,k,i-1)+Splus(s,k,i+1): #yes\n",
    "            shift1=min(dur,Splus(s,k,i+1))\n",
    "            B,D,W=cMove(s,i+1,len(s[k])-2,k,shift1,B,D,W)\n",
    "            #D[k][i]=B[k][i+1]-time[(q,s[k][i])]\n",
    "            D[k]=D[k][:i]+[B[k][i+1]-time[(q,s[k][i+1])]]+D[k][i:]\n",
    "            B[k]=B[k][:i]+[D[k][i]-dd]+B[k][i:]\n",
    "            W[k]=W[k][:i]+[B[k][i]-A[k][i]]+W[k][i:]\n",
    "            B[k][len(B[k])-1]+=shift1\n",
    "            \n",
    "            if shift1<dur:\n",
    "                shift2=dur-shift1\n",
    "                B,D,W=aMove(s,1,i-1,k,shift2,B,D,W)\n",
    "                D[k][0],W[k][i] = D[k][0]+shift2,W[k][i]+shift2\n",
    "                (costt,s1,D1,B1,W1)=foctionAII(s,k,i,B,D,W)\n",
    "                return (costt,s1,D1,B1,W1)\n",
    "            else :\n",
    "                (costt,s1,D1,B1,W1)=foctionAII(s,k,i,B,D,W)\n",
    "                return (costt,s1,D1,B1,W1)\n",
    "        else:\n",
    "            return(np.inf,s2,d,b,w)\n",
    "                \n",
    "   "
   ]
  },
  {
   "cell_type": "code",
   "execution_count": 29,
   "id": "e125e62a",
   "metadata": {},
   "outputs": [
    {
     "data": {
      "text/plain": [
       "(3651.0,\n",
       " {1: [0, 19, 44, 51],\n",
       "  2: [0, 22, 47, 51],\n",
       "  3: [0, 9, 34, 51],\n",
       "  4: [0, 7, 32, 51],\n",
       "  5: [0, 8, 2, 33, 51],\n",
       "  6: [0, 21, 46, 51],\n",
       "  7: [0, 15, 40, 51],\n",
       "  8: [0, 23, 48, 51]},\n",
       " {1: [45000, 46032.0, 47090.0, 48259.0],\n",
       "  2: [31200, 32640, 32778.0, 33749.0],\n",
       "  3: [52200, 53640, 53640, 54085.0],\n",
       "  4: [36600, 41964, 41964, 38635.0],\n",
       "  5: [48600, 50032, 50778.0, 50464.0, 51531.0],\n",
       "  6: [34800, 36240, 36240, 36885.0],\n",
       "  7: [48600, 49253.0, 50019.0, 51112.0],\n",
       "  8: [31200, 35340, 35340, 33306.0]},\n",
       " {1: [45000, 46092.0, 47150.0, 48259.0],\n",
       "  2: [31200, 32700, 32838.0, 33749.0],\n",
       "  3: [52200, 53700, 53700, 54085.0],\n",
       "  4: [36600, 42024, 42024, 38635.0],\n",
       "  5: [48600, 50092, 50838.0, 50524.0, 51531.0],\n",
       "  6: [34800, 36300, 36300, 36885.0],\n",
       "  7: [48600, 49313.0, 50079.0, 51112.0],\n",
       "  8: [31200, 35400, 35400, 33306.0]},\n",
       " {1: [0, 0.0, 0.0, 0.0],\n",
       "  2: [0, 636.0, 0.0, 0.0],\n",
       "  3: [0, 1371.0, 467.0, 0.0],\n",
       "  4: [0, 5038.0, 4496.0, 0.0],\n",
       "  5: [0, 400.0, 215.0, -852.0, 0.0],\n",
       "  6: [0, 1022.0, 448.0, 0.0],\n",
       "  7: [0, 0.0, 0.0, 0.0],\n",
       "  8: [0, 3722.0, 3024.0, 0.0]})"
      ]
     },
     "execution_count": 29,
     "metadata": {},
     "output_type": "execute_result"
    }
   ],
   "source": [
    "q=2\n",
    "AII(s1,2,5,q,D,B,W)"
   ]
  },
  {
   "cell_type": "code",
   "execution_count": 30,
   "id": "0296cd87",
   "metadata": {},
   "outputs": [],
   "source": [
    "def AIII(s1,i,k,q,d,b,w):\n",
    "    B=copy.copy(b)\n",
    "    D=copy.copy(d)\n",
    "    W=copy.copy(w)\n",
    "    s=copy.copy(s1)\n",
    "    A=constrA(s)\n",
    "    s[k]=s[k][:i]+[q]+s[k][i:]\n",
    "    Cost = 0\n",
    "    q1 = len(s[k])-2\n",
    "    B[k] = B[k][:i] + [D[k][i-1] + Time[(s[k][i-1],s[k][i])]] + B[k][i:]\n",
    "    D[k] = D[k][:i] + [B[k][i] + bookings[i-1][\"maximumDuration\"]] + D[k][i:]\n",
    "    D[k][q1+1] = B[k][i] + time[(s[k][i],s[k][q1+1])]\n",
    "    \n",
    "    \n",
    "    if window_contrainte(s,k,i) == 0 and verification_contraintes(s,k,i) == True: #Is the time window of Si violated ? --> Non\n",
    "        Cost = cost(s,k)\n",
    "        return (Cost,s,D,B,W)\n",
    "    \n",
    "    elif B[k][i] < e[s[k][i]]:              #Is Bi < ei ? --> Oui\n",
    "        viol = e[s[k][i]] - B[k][i]\n",
    "        shift1 = min(viol, Pplus(s,k,i))\n",
    "        B,D,W=bMove(s,1,q1,k,shift1,B,D,W)\n",
    "        D[k][0], B[k][q1+1] = D[k][0] - shift1, B[k][q1+1] - shift1 #Update\n",
    "        \n",
    "        if window_contrainte(s,k,i) != 0 or verification_contraintes(s,k,i) == False: #Is the time window of \"Si\" violated ? --> Oui\n",
    "            if i > n_req:              #Is \"Si\" a destination stop ?\n",
    "                return (np.inf,s1,d,b,w)\n",
    "            else: \n",
    "                shift2 = viol - shift1\n",
    "                B[k][i] = B[k][i] + shift2\n",
    "                D[k][i], W[k][i], B[k][q1+1] = D[k][i] + shift2, W[k][i] + shift2, B[k][q1+1] + shift2 #Update\n",
    "                \n",
    "                if window_contrainte(s,k,i) != 0 or verification_contraintes(s,k,i) == False: #Is the time window of \"Si\" violated ? --> Oui\n",
    "                    return (np.inf,s1,d,b,w)\n",
    "                else: \n",
    "                    Cost = cost(s,k)\n",
    "                    return (Cost)       \n",
    "        else:                        #Is the time window of \"Si\" violated ? --> Non\n",
    "            Cost = cost(s,k)         \n",
    "            return (Cost,s,D,B,W)\n",
    "    else:                            #Is Bi < ei ?  --> Non\n",
    "        viol = B[k][i] - l[s[k][i]]\n",
    "        shift1 = min(viol, Pmoins(s,k,i-1))\n",
    "        B,D,W=aMove(s,1,i,k,shift1,B,D,W)\n",
    "        D[k][0], B[k][q1+1] = D[k][0] + shift1, B[k][q1+1] + shift1 #Update\n",
    "        \n",
    "        if window_contrainte(s,k,i) != 0 or verification_contraintes(s,k,i) == False: #Is the time window of Si violated ? --> Oui\n",
    "            return (np.inf,s1,d,b,w)\n",
    "        else:\n",
    "            Cost = cost(s,k)\n",
    "            return (Cost,s,D,B,W)"
   ]
  },
  {
   "cell_type": "code",
   "execution_count": 31,
   "id": "a78874e7",
   "metadata": {},
   "outputs": [],
   "source": [
    "def BI(s,i,k,q,D,B,W):\n",
    "    (cost1,s1,D1,B1,W1)=AI(s,i,k,q,D,B,W)\n",
    "    if cost1==np.inf:\n",
    "        return(np.inf,s,D,B,W)\n",
    "    else :\n",
    "        kprim=i+1\n",
    "        #print(k,AII(s1,kprim,k,q,D1,B1,W1))\n",
    "        (cost2,s2,D2,B2,W2)=AII(s1,kprim,k,q,D1,B1,W1)\n",
    "        if cost2==np.inf:\n",
    "            return(np.inf,s,D,B,W)\n",
    "        else:\n",
    "            coost=float(cost1+cost2)\n",
    "            return(coost,s2,D2,B2,W2)\n",
    "def BII(s,i,k,q,D,B,W):\n",
    "    (cost1,s1,D1,B1,W1)=AII(s,i,k,q,D,B,W)\n",
    "    if cost1==np.inf:\n",
    "        return(np.inf,s,D,B,W)\n",
    "    else :\n",
    "        kprim=i+1\n",
    "        (cost2,s2,D2,B2,W2)=AII(s1,kprim,k,q,D1,B1,W1)\n",
    "        if cost2==np.inf:\n",
    "            return(np.inf,s,D,B,W)\n",
    "        else:\n",
    "            coost=float(cost1+cost2)\n",
    "            return(coost,s2,D2,B2,W2)\n",
    "def BIII(s,i,k,q,D,B,W): \n",
    "    (cost1,s1,D1,B1,W1)=AII(s,i,k,q,D,B,W)\n",
    "    if cost1==np.inf:\n",
    "        return(np.inf,s,D,B,W)\n",
    "    else :\n",
    "        kprim=i+1\n",
    "        (cost2,s2,D2,B2,W2)=AIII(s1,kprim,k,q,D1,B1,W1)\n",
    "        if cost2==np.inf:\n",
    "            return(np.inf,s,D,B,W)\n",
    "        else:\n",
    "            coost=float(cost1+cost2)\n",
    "            return(coost,s2,D2,B2,W2)"
   ]
  },
  {
   "cell_type": "markdown",
   "id": "fd1e28a4",
   "metadata": {},
   "source": [
    "### 4- Algorithme d'insertion:"
   ]
  },
  {
   "cell_type": "markdown",
   "id": "d8666a96",
   "metadata": {},
   "source": [
    "##### 4.1- Liste des commandes à attribuer"
   ]
  },
  {
   "cell_type": "code",
   "execution_count": 32,
   "id": "f6dcfa00",
   "metadata": {},
   "outputs": [],
   "source": [
    "#les noeuds non attribuées à un chauffeur\n",
    "s=s1\n",
    "NU=[i for i in range(1,n_req+1)]\n",
    "for k in s:\n",
    "     for j in s[k]:\n",
    "        if 0<j and j<=n_req:\n",
    "            NU.remove(j)"
   ]
  },
  {
   "cell_type": "markdown",
   "id": "747e839e",
   "metadata": {},
   "source": [
    "##### 4.2- fonctions de récuperation des meilleurs coûts:"
   ]
  },
  {
   "cell_type": "code",
   "execution_count": 33,
   "id": "f620bd68",
   "metadata": {},
   "outputs": [],
   "source": [
    "def meilleurposition(costk):\n",
    "    a=np.inf\n",
    "    j=1\n",
    "    for i in range(len(costk)):\n",
    "        if costk[i]<a:\n",
    "            j=i+1\n",
    "            a=costk[i]\n",
    "    return(j,a)\n",
    "def Meilleurcost(costq):\n",
    "    a=np.inf\n",
    "    k=0\n",
    "    posi=1\n",
    "    for ii in range(len(costq)):\n",
    "        if costq[ii][1]<a:\n",
    "            k=ii\n",
    "            a=costq[ii][1]\n",
    "            posi=costq[ii][0]\n",
    "    return(k,posi,a)\n",
    "        "
   ]
  },
  {
   "cell_type": "markdown",
   "id": "05a97501",
   "metadata": {},
   "source": [
    "##### 4.3- Algorithme "
   ]
  },
  {
   "cell_type": "code",
   "execution_count": 34,
   "id": "2075c505",
   "metadata": {},
   "outputs": [],
   "source": [
    "def Insertion(s,NU,D,B,W):\n",
    "    NF=[] #solution non faisable\n",
    "    A=constrA(s)\n",
    "    s1=copy.copy(s)\n",
    "    for q in NU:\n",
    "        costq=[]\n",
    "        for k in s:\n",
    "            costk=[]\n",
    "            for i in range(len(s[k])):\n",
    "                if i==1:\n",
    "                    costk.append(BI(s,i,k,q,D,B,W)[0])\n",
    "                elif 1<i and i<len(s[k])-2:\n",
    "                    costk.append(BII(s,i,k,q,D,B,W)[0])\n",
    "                elif i==len(s[k])-2:\n",
    "                    costk.append(BIII(s,i,k,q,D,B,W)[0])\n",
    "                    \n",
    "                \n",
    "        #trouver la meilleure position d'insertion\n",
    "            (position,meilleurcost)=meilleurposition(costk)\n",
    "            costq.append([position,meilleurcost])\n",
    "        chauf,pos,costt=Meilleurcost(costq)\n",
    "        if costt==np.inf:\n",
    "            NF.append(q)\n",
    "            \n",
    "        else:\n",
    "            \n",
    "            s[chauf+1]=s1[chauf+1][:pos]+[q,n_req+q]+s1[chauf+1][pos:]\n",
    "            print(s)\n",
    "            A=constrA(s)\n",
    "            D=constrD(s)\n",
    "            B=constrB(s)\n",
    "            W=constrW(s,B,A)\n",
    "            \n",
    "    \n",
    "    return(s,NF)\n",
    "    "
   ]
  },
  {
   "cell_type": "code",
   "execution_count": 35,
   "id": "b846a571",
   "metadata": {
    "scrolled": false
   },
   "outputs": [
    {
     "name": "stdout",
     "output_type": "stream",
     "text": [
      "{1: [0, 19, 44, 51], 2: [0, 22, 47, 51], 3: [0, 9, 34, 51], 4: [0, 7, 32, 51], 5: [0, 8, 33, 51], 6: [0, 21, 46, 51], 7: [0, 15, 1, 26, 40, 51], 8: [0, 23, 48, 51]}\n",
      "{1: [0, 19, 44, 51], 2: [0, 22, 47, 51], 3: [0, 3, 28, 9, 34, 51], 4: [0, 7, 32, 51], 5: [0, 8, 33, 51], 6: [0, 21, 46, 51], 7: [0, 15, 1, 26, 40, 51], 8: [0, 23, 48, 51]}\n",
      "{1: [0, 19, 44, 51], 2: [0, 22, 4, 29, 47, 51], 3: [0, 3, 28, 9, 34, 51], 4: [0, 7, 32, 51], 5: [0, 8, 33, 51], 6: [0, 21, 46, 51], 7: [0, 15, 1, 26, 40, 51], 8: [0, 23, 48, 51]}\n",
      "{1: [0, 19, 44, 51], 2: [0, 22, 4, 29, 47, 51], 3: [0, 3, 28, 9, 34, 51], 4: [0, 7, 32, 51], 5: [0, 8, 33, 51], 6: [0, 21, 5, 30, 46, 51], 7: [0, 15, 1, 26, 40, 51], 8: [0, 23, 48, 51]}\n"
     ]
    },
    {
     "ename": "IndexError",
     "evalue": "list index out of range",
     "output_type": "error",
     "traceback": [
      "\u001b[1;31m---------------------------------------------------------------------------\u001b[0m",
      "\u001b[1;31mIndexError\u001b[0m                                Traceback (most recent call last)",
      "\u001b[1;32m~\\AppData\\Local\\Temp/ipykernel_14920/1914853182.py\u001b[0m in \u001b[0;36m<module>\u001b[1;34m\u001b[0m\n\u001b[1;32m----> 1\u001b[1;33m \u001b[0mInsertion\u001b[0m\u001b[1;33m(\u001b[0m\u001b[0ms1\u001b[0m\u001b[1;33m,\u001b[0m\u001b[0mNU\u001b[0m\u001b[1;33m,\u001b[0m\u001b[0mD\u001b[0m\u001b[1;33m,\u001b[0m\u001b[0mB\u001b[0m\u001b[1;33m,\u001b[0m\u001b[0mW\u001b[0m\u001b[1;33m)\u001b[0m\u001b[1;33m\u001b[0m\u001b[1;33m\u001b[0m\u001b[0m\n\u001b[0m",
      "\u001b[1;32m~\\AppData\\Local\\Temp/ipykernel_14920/3374366353.py\u001b[0m in \u001b[0;36mInsertion\u001b[1;34m(s, NU, D, B, W)\u001b[0m\n\u001b[0;32m     13\u001b[0m                     \u001b[0mcostk\u001b[0m\u001b[1;33m.\u001b[0m\u001b[0mappend\u001b[0m\u001b[1;33m(\u001b[0m\u001b[0mBII\u001b[0m\u001b[1;33m(\u001b[0m\u001b[0ms\u001b[0m\u001b[1;33m,\u001b[0m\u001b[0mi\u001b[0m\u001b[1;33m,\u001b[0m\u001b[0mk\u001b[0m\u001b[1;33m,\u001b[0m\u001b[0mq\u001b[0m\u001b[1;33m,\u001b[0m\u001b[0mD\u001b[0m\u001b[1;33m,\u001b[0m\u001b[0mB\u001b[0m\u001b[1;33m,\u001b[0m\u001b[0mW\u001b[0m\u001b[1;33m)\u001b[0m\u001b[1;33m[\u001b[0m\u001b[1;36m0\u001b[0m\u001b[1;33m]\u001b[0m\u001b[1;33m)\u001b[0m\u001b[1;33m\u001b[0m\u001b[1;33m\u001b[0m\u001b[0m\n\u001b[0;32m     14\u001b[0m                 \u001b[1;32melif\u001b[0m \u001b[0mi\u001b[0m\u001b[1;33m==\u001b[0m\u001b[0mlen\u001b[0m\u001b[1;33m(\u001b[0m\u001b[0ms\u001b[0m\u001b[1;33m[\u001b[0m\u001b[0mk\u001b[0m\u001b[1;33m]\u001b[0m\u001b[1;33m)\u001b[0m\u001b[1;33m-\u001b[0m\u001b[1;36m2\u001b[0m\u001b[1;33m:\u001b[0m\u001b[1;33m\u001b[0m\u001b[1;33m\u001b[0m\u001b[0m\n\u001b[1;32m---> 15\u001b[1;33m                     \u001b[0mcostk\u001b[0m\u001b[1;33m.\u001b[0m\u001b[0mappend\u001b[0m\u001b[1;33m(\u001b[0m\u001b[0mBIII\u001b[0m\u001b[1;33m(\u001b[0m\u001b[0ms\u001b[0m\u001b[1;33m,\u001b[0m\u001b[0mi\u001b[0m\u001b[1;33m,\u001b[0m\u001b[0mk\u001b[0m\u001b[1;33m,\u001b[0m\u001b[0mq\u001b[0m\u001b[1;33m,\u001b[0m\u001b[0mD\u001b[0m\u001b[1;33m,\u001b[0m\u001b[0mB\u001b[0m\u001b[1;33m,\u001b[0m\u001b[0mW\u001b[0m\u001b[1;33m)\u001b[0m\u001b[1;33m[\u001b[0m\u001b[1;36m0\u001b[0m\u001b[1;33m]\u001b[0m\u001b[1;33m)\u001b[0m\u001b[1;33m\u001b[0m\u001b[1;33m\u001b[0m\u001b[0m\n\u001b[0m\u001b[0;32m     16\u001b[0m \u001b[1;33m\u001b[0m\u001b[0m\n\u001b[0;32m     17\u001b[0m \u001b[1;33m\u001b[0m\u001b[0m\n",
      "\u001b[1;32m~\\AppData\\Local\\Temp/ipykernel_14920/2261265482.py\u001b[0m in \u001b[0;36mBIII\u001b[1;34m(s, i, k, q, D, B, W)\u001b[0m\n\u001b[0;32m     30\u001b[0m     \u001b[1;32melse\u001b[0m \u001b[1;33m:\u001b[0m\u001b[1;33m\u001b[0m\u001b[1;33m\u001b[0m\u001b[0m\n\u001b[0;32m     31\u001b[0m         \u001b[0mkprim\u001b[0m\u001b[1;33m=\u001b[0m\u001b[0mi\u001b[0m\u001b[1;33m+\u001b[0m\u001b[1;36m1\u001b[0m\u001b[1;33m\u001b[0m\u001b[1;33m\u001b[0m\u001b[0m\n\u001b[1;32m---> 32\u001b[1;33m         \u001b[1;33m(\u001b[0m\u001b[0mcost2\u001b[0m\u001b[1;33m,\u001b[0m\u001b[0ms2\u001b[0m\u001b[1;33m,\u001b[0m\u001b[0mD2\u001b[0m\u001b[1;33m,\u001b[0m\u001b[0mB2\u001b[0m\u001b[1;33m,\u001b[0m\u001b[0mW2\u001b[0m\u001b[1;33m)\u001b[0m\u001b[1;33m=\u001b[0m\u001b[0mAIII\u001b[0m\u001b[1;33m(\u001b[0m\u001b[0ms1\u001b[0m\u001b[1;33m,\u001b[0m\u001b[0mkprim\u001b[0m\u001b[1;33m,\u001b[0m\u001b[0mk\u001b[0m\u001b[1;33m,\u001b[0m\u001b[0mq\u001b[0m\u001b[1;33m,\u001b[0m\u001b[0mD1\u001b[0m\u001b[1;33m,\u001b[0m\u001b[0mB1\u001b[0m\u001b[1;33m,\u001b[0m\u001b[0mW1\u001b[0m\u001b[1;33m)\u001b[0m\u001b[1;33m\u001b[0m\u001b[1;33m\u001b[0m\u001b[0m\n\u001b[0m\u001b[0;32m     33\u001b[0m         \u001b[1;32mif\u001b[0m \u001b[0mcost2\u001b[0m\u001b[1;33m==\u001b[0m\u001b[0mnp\u001b[0m\u001b[1;33m.\u001b[0m\u001b[0minf\u001b[0m\u001b[1;33m:\u001b[0m\u001b[1;33m\u001b[0m\u001b[1;33m\u001b[0m\u001b[0m\n\u001b[0;32m     34\u001b[0m             \u001b[1;32mreturn\u001b[0m\u001b[1;33m(\u001b[0m\u001b[0mnp\u001b[0m\u001b[1;33m.\u001b[0m\u001b[0minf\u001b[0m\u001b[1;33m,\u001b[0m\u001b[0ms\u001b[0m\u001b[1;33m,\u001b[0m\u001b[0mD\u001b[0m\u001b[1;33m,\u001b[0m\u001b[0mB\u001b[0m\u001b[1;33m,\u001b[0m\u001b[0mW\u001b[0m\u001b[1;33m)\u001b[0m\u001b[1;33m\u001b[0m\u001b[1;33m\u001b[0m\u001b[0m\n",
      "\u001b[1;32m~\\AppData\\Local\\Temp/ipykernel_14920/43374217.py\u001b[0m in \u001b[0;36mAIII\u001b[1;34m(s1, i, k, q, d, b, w)\u001b[0m\n\u001b[0;32m     41\u001b[0m     \u001b[1;32melse\u001b[0m\u001b[1;33m:\u001b[0m                            \u001b[1;31m#Is Bi < ei ?  --> Non\u001b[0m\u001b[1;33m\u001b[0m\u001b[1;33m\u001b[0m\u001b[0m\n\u001b[0;32m     42\u001b[0m         \u001b[0mviol\u001b[0m \u001b[1;33m=\u001b[0m \u001b[0mB\u001b[0m\u001b[1;33m[\u001b[0m\u001b[0mk\u001b[0m\u001b[1;33m]\u001b[0m\u001b[1;33m[\u001b[0m\u001b[0mi\u001b[0m\u001b[1;33m]\u001b[0m \u001b[1;33m-\u001b[0m \u001b[0ml\u001b[0m\u001b[1;33m[\u001b[0m\u001b[0ms\u001b[0m\u001b[1;33m[\u001b[0m\u001b[0mk\u001b[0m\u001b[1;33m]\u001b[0m\u001b[1;33m[\u001b[0m\u001b[0mi\u001b[0m\u001b[1;33m]\u001b[0m\u001b[1;33m]\u001b[0m\u001b[1;33m\u001b[0m\u001b[1;33m\u001b[0m\u001b[0m\n\u001b[1;32m---> 43\u001b[1;33m         \u001b[0mshift1\u001b[0m \u001b[1;33m=\u001b[0m \u001b[0mmin\u001b[0m\u001b[1;33m(\u001b[0m\u001b[0mviol\u001b[0m\u001b[1;33m,\u001b[0m \u001b[0mPmoins\u001b[0m\u001b[1;33m(\u001b[0m\u001b[0ms\u001b[0m\u001b[1;33m,\u001b[0m\u001b[0mk\u001b[0m\u001b[1;33m,\u001b[0m\u001b[0mi\u001b[0m\u001b[1;33m-\u001b[0m\u001b[1;36m1\u001b[0m\u001b[1;33m)\u001b[0m\u001b[1;33m)\u001b[0m\u001b[1;33m\u001b[0m\u001b[1;33m\u001b[0m\u001b[0m\n\u001b[0m\u001b[0;32m     44\u001b[0m         \u001b[0mB\u001b[0m\u001b[1;33m,\u001b[0m\u001b[0mD\u001b[0m\u001b[1;33m,\u001b[0m\u001b[0mW\u001b[0m\u001b[1;33m=\u001b[0m\u001b[0maMove\u001b[0m\u001b[1;33m(\u001b[0m\u001b[0ms\u001b[0m\u001b[1;33m,\u001b[0m\u001b[1;36m1\u001b[0m\u001b[1;33m,\u001b[0m\u001b[0mi\u001b[0m\u001b[1;33m,\u001b[0m\u001b[0mk\u001b[0m\u001b[1;33m,\u001b[0m\u001b[0mshift1\u001b[0m\u001b[1;33m,\u001b[0m\u001b[0mB\u001b[0m\u001b[1;33m,\u001b[0m\u001b[0mD\u001b[0m\u001b[1;33m,\u001b[0m\u001b[0mW\u001b[0m\u001b[1;33m)\u001b[0m\u001b[1;33m\u001b[0m\u001b[1;33m\u001b[0m\u001b[0m\n\u001b[0;32m     45\u001b[0m         \u001b[0mD\u001b[0m\u001b[1;33m[\u001b[0m\u001b[0mk\u001b[0m\u001b[1;33m]\u001b[0m\u001b[1;33m[\u001b[0m\u001b[1;36m0\u001b[0m\u001b[1;33m]\u001b[0m\u001b[1;33m,\u001b[0m \u001b[0mB\u001b[0m\u001b[1;33m[\u001b[0m\u001b[0mk\u001b[0m\u001b[1;33m]\u001b[0m\u001b[1;33m[\u001b[0m\u001b[0mq1\u001b[0m\u001b[1;33m+\u001b[0m\u001b[1;36m1\u001b[0m\u001b[1;33m]\u001b[0m \u001b[1;33m=\u001b[0m \u001b[0mD\u001b[0m\u001b[1;33m[\u001b[0m\u001b[0mk\u001b[0m\u001b[1;33m]\u001b[0m\u001b[1;33m[\u001b[0m\u001b[1;36m0\u001b[0m\u001b[1;33m]\u001b[0m \u001b[1;33m+\u001b[0m \u001b[0mshift1\u001b[0m\u001b[1;33m,\u001b[0m \u001b[0mB\u001b[0m\u001b[1;33m[\u001b[0m\u001b[0mk\u001b[0m\u001b[1;33m]\u001b[0m\u001b[1;33m[\u001b[0m\u001b[0mq1\u001b[0m\u001b[1;33m+\u001b[0m\u001b[1;36m1\u001b[0m\u001b[1;33m]\u001b[0m \u001b[1;33m+\u001b[0m \u001b[0mshift1\u001b[0m \u001b[1;31m#Update\u001b[0m\u001b[1;33m\u001b[0m\u001b[1;33m\u001b[0m\u001b[0m\n",
      "\u001b[1;32m~\\AppData\\Local\\Temp/ipykernel_14920/1339192916.py\u001b[0m in \u001b[0;36mPmoins\u001b[1;34m(s, k, i)\u001b[0m\n\u001b[0;32m     12\u001b[0m     \u001b[0mP\u001b[0m\u001b[1;33m=\u001b[0m\u001b[1;33m[\u001b[0m\u001b[1;33m]\u001b[0m\u001b[1;33m\u001b[0m\u001b[1;33m\u001b[0m\u001b[0m\n\u001b[0;32m     13\u001b[0m     \u001b[1;32mfor\u001b[0m \u001b[0mj\u001b[0m \u001b[1;32min\u001b[0m \u001b[0mrange\u001b[0m\u001b[1;33m(\u001b[0m\u001b[0mi\u001b[0m\u001b[1;33m+\u001b[0m\u001b[1;36m1\u001b[0m\u001b[1;33m)\u001b[0m\u001b[1;33m:\u001b[0m\u001b[1;33m\u001b[0m\u001b[1;33m\u001b[0m\u001b[0m\n\u001b[1;32m---> 14\u001b[1;33m         \u001b[0mP\u001b[0m\u001b[1;33m.\u001b[0m\u001b[0mappend\u001b[0m\u001b[1;33m(\u001b[0m\u001b[0mB\u001b[0m\u001b[1;33m[\u001b[0m\u001b[0mk\u001b[0m\u001b[1;33m]\u001b[0m\u001b[1;33m[\u001b[0m\u001b[0mj\u001b[0m\u001b[1;33m]\u001b[0m\u001b[1;33m-\u001b[0m\u001b[0me\u001b[0m\u001b[1;33m[\u001b[0m\u001b[0ms\u001b[0m\u001b[1;33m[\u001b[0m\u001b[0mk\u001b[0m\u001b[1;33m]\u001b[0m\u001b[1;33m[\u001b[0m\u001b[0mj\u001b[0m\u001b[1;33m]\u001b[0m\u001b[1;33m]\u001b[0m\u001b[1;33m)\u001b[0m\u001b[1;33m\u001b[0m\u001b[1;33m\u001b[0m\u001b[0m\n\u001b[0m\u001b[0;32m     15\u001b[0m     \u001b[0mp\u001b[0m\u001b[1;33m=\u001b[0m\u001b[0mmin\u001b[0m\u001b[1;33m(\u001b[0m\u001b[0mu\u001b[0m \u001b[1;32mfor\u001b[0m \u001b[0mu\u001b[0m \u001b[1;32min\u001b[0m \u001b[0mP\u001b[0m\u001b[1;33m)\u001b[0m\u001b[1;33m\u001b[0m\u001b[1;33m\u001b[0m\u001b[0m\n\u001b[0;32m     16\u001b[0m     \u001b[1;32mreturn\u001b[0m \u001b[0mp\u001b[0m\u001b[1;33m\u001b[0m\u001b[1;33m\u001b[0m\u001b[0m\n",
      "\u001b[1;31mIndexError\u001b[0m: list index out of range"
     ]
    }
   ],
   "source": [
    "Insertion(s1,NU,D,B,W)"
   ]
  },
  {
   "cell_type": "code",
   "execution_count": 36,
   "id": "d8b9df8a",
   "metadata": {},
   "outputs": [],
   "source": [
    "s_final={1: [0, 19, 44, 51], 2: [0, 22, 4, 29, 47, 51], 3: [0, 3, 28, 9, 34, 51], 4: [0, 7, 32, 51], 5: [0, 8, 33, 51], 6: [0, 21, 5, 30, 46, 51], 7: [0, 15, 1, 26, 40, 51], 8: [0, 23, 48, 51]}"
   ]
  },
  {
   "cell_type": "code",
   "execution_count": 38,
   "id": "dc70c14c",
   "metadata": {},
   "outputs": [
    {
     "name": "stdout",
     "output_type": "stream",
     "text": [
      "True\n",
      "True\n",
      "True\n",
      "True\n",
      "True\n",
      "True\n",
      "True\n",
      "True\n",
      "True\n",
      "True\n",
      "True\n",
      "True\n",
      "True\n",
      "True\n",
      "True\n",
      "True\n",
      "True\n",
      "True\n",
      "True\n",
      "True\n",
      "True\n",
      "True\n",
      "True\n",
      "True\n",
      "True\n",
      "True\n",
      "True\n",
      "True\n",
      "True\n",
      "True\n",
      "True\n",
      "True\n",
      "True\n",
      "True\n",
      "True\n",
      "True\n",
      "True\n",
      "True\n",
      "True\n",
      "True\n"
     ]
    }
   ],
   "source": [
    "for k in s_final:\n",
    "    for i in s_final[k]:\n",
    "        print(verification_contraintes(s_final,k,i))"
   ]
  }
 ],
 "metadata": {
  "kernelspec": {
   "display_name": "Python 3 (ipykernel)",
   "language": "python",
   "name": "python3"
  },
  "language_info": {
   "codemirror_mode": {
    "name": "ipython",
    "version": 3
   },
   "file_extension": ".py",
   "mimetype": "text/x-python",
   "name": "python",
   "nbconvert_exporter": "python",
   "pygments_lexer": "ipython3",
   "version": "3.9.7"
  }
 },
 "nbformat": 4,
 "nbformat_minor": 5
}
