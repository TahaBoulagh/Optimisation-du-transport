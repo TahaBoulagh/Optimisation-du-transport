{
 "cells": [
  {
   "cell_type": "markdown",
   "id": "c5e2813f",
   "metadata": {},
   "source": [
    "# <font color=blue><div align=\"center\">Projet Karhoo</div></font>\n"
   ]
  },
  {
   "cell_type": "code",
   "execution_count": 1,
   "id": "42364cc4",
   "metadata": {},
   "outputs": [],
   "source": [
    "# Modules de base\n",
    "import numpy as np\n",
    "import matplotlib.pyplot as plt\n",
    "\n",
    "# Module relatif à Gurobi\n",
    "from gurobipy import *\n",
    "\n",
    "# Module csv\n",
    "import csv\n",
    "\n",
    "#Module json\n",
    "import json\n",
    "\n",
    "import time as tm\n"
   ]
  },
  {
   "cell_type": "markdown",
   "id": "c822e6b9",
   "metadata": {},
   "source": [
    "# Objectif1 : maximiser le nombre de courses possibles aux chauffeurs\n"
   ]
  },
  {
   "cell_type": "markdown",
   "id": "779e2432",
   "metadata": {},
   "source": [
    "<font color=blue><div align=\"center\"></div></font>\n",
    "\n",
    "$$\\mbox{Maximize} \\;\\;\\; \\sum_{k \\in K} \\; \\sum_{i \\in P} \\; \\sum_{j \\in N} \\;x_{ij}^{k} $$"
   ]
  },
  {
   "cell_type": "markdown",
   "id": "c98f3015",
   "metadata": {},
   "source": [
    "# Objectif 2: minimiser le temps total de trajet pour les chauffeurs\n"
   ]
  },
  {
   "cell_type": "markdown",
   "id": "16e58ad1",
   "metadata": {},
   "source": [
    "<font color=blue><div align=\"center\"></div></font>\n",
    "\n",
    "$$\\mbox{Minimize} \\;\\;\\; \\sum_{k \\in K} \\; \\sum_{i \\in N} \\; \\sum_{j \\in N} \\;x_{ij}^{k} t_{ij}$$"
   ]
  },
  {
   "cell_type": "markdown",
   "id": "cb05c79e",
   "metadata": {},
   "source": [
    "# Traitement de la base de données"
   ]
  },
  {
   "cell_type": "code",
   "execution_count": 2,
   "id": "9bf1a852",
   "metadata": {},
   "outputs": [],
   "source": [
    "n = 25 \n",
    "Nombres_de_shifts = 8\n",
    "stations = N = range(52)\n",
    "chauffeurs = K = range(1,9)\n",
    "Pickups = P = range(1, 26)\n",
    "Dropoffs = D = range(26, 51)\n",
    "\n",
    "# Small_sized_data : dict\n",
    "small_sized_data = \"/Users/mac/Desktop/Supelec/OPTI des trans passagers/DATA projet Karhoo/day_data.json\" #insérer le chemin du fichier\n",
    "\n",
    "\n",
    "# Chargement des données: \n",
    "with open(small_sized_data) as SmallSizedData:\n",
    "    reader = json.load(SmallSizedData)\n",
    "    bookings = reader[\"bookings\"]\n",
    "    shifts = reader[\"shifts\"]\n",
    "    \n",
    "  "
   ]
  },
  {
   "cell_type": "code",
   "execution_count": 3,
   "id": "36ddeb0a",
   "metadata": {},
   "outputs": [],
   "source": [
    "Stations_demandes={} #dictionaire qui lie chaque noeud avec la station réelle \n",
    "id_stations={}\n",
    "for i in range (n):\n",
    "    Stations_demandes[i+1]=bookings[i]['jobs'][0]['station']\n",
    "    id_stations[i+1]=bookings[i]['jobs'][0][\"id\"]\n",
    "    Stations_demandes[n+i+1]=bookings[i]['jobs'][1]['station']\n",
    "    id_stations[n+i+1]=bookings[i]['jobs'][1][\"id\"]\n",
    "    bookings[i]['id']=i+1\n",
    "    bookings[i]['jobs'][0]['station']=i+1\n",
    "    bookings[i]['jobs'][1]['station']=n+i+1\n"
   ]
  },
  {
   "cell_type": "code",
   "execution_count": 4,
   "id": "c0a28de5",
   "metadata": {},
   "outputs": [],
   "source": [
    "Stations_demandes[0]='s0'\n",
    "Stations_demandes[51]='s0'\n",
    "\n",
    "for k in range (Nombres_de_shifts):\n",
    "    shifts[k]['id']=k+1\n",
    "    shifts[k]['jobs'][0]['station']=0\n",
    "    shifts[k]['jobs'][1]['station']=51\n",
    "\n"
   ]
  },
  {
   "cell_type": "code",
   "execution_count": 5,
   "id": "58810f6d",
   "metadata": {},
   "outputs": [],
   "source": [
    "#la durée maximale de chaque trajet\n",
    "T={}\n",
    "for k in chauffeurs:\n",
    "    T[k]=shifts[k-1]['jobs'][1][\"timeDate\"]-shifts[k-1]['jobs'][0][\"timeDate\"] "
   ]
  },
  {
   "cell_type": "code",
   "execution_count": 6,
   "id": "e6d2cacb",
   "metadata": {},
   "outputs": [],
   "source": [
    "#dict des charges:\n",
    "q=[0,]\n",
    "for r in range(n):\n",
    "    q.append(bookings[r][\"passengers\"])\n",
    "for r in range(n):\n",
    "    q.append(-bookings[r][\"passengers\"])\n",
    "q.append(0)\n",
    "\n"
   ]
  },
  {
   "cell_type": "markdown",
   "id": "347db162",
   "metadata": {},
   "source": [
    "# MLP"
   ]
  },
  {
   "cell_type": "code",
   "execution_count": 7,
   "id": "92398f33",
   "metadata": {},
   "outputs": [
    {
     "name": "stdout",
     "output_type": "stream",
     "text": [
      "Set parameter Username\n",
      "Academic license - for non-commercial use only - expires 2023-01-27\n"
     ]
    }
   ],
   "source": [
    "m = Model(\"PL-OBJ1\")\n",
    "travel_time = \"/Users/mac/Desktop/Supelec/OPTI des trans passagers/DATA projet Karhoo/travel_times4.csv\"  #insérer le chemin du fichier\n",
    "\n",
    "Time = {}\n",
    "\n",
    "number_of_s = 52\n",
    "\n",
    "with open(travel_time) as TravelTime:\n",
    "    reader = csv.DictReader(TravelTime)\n",
    "    for row in reader:\n",
    "        b = int(row['station'])\n",
    "        for sId in range(0, number_of_s +1):\n",
    "            Time[(b,sId)] = float(row[f's{sId}'])\n",
    "            \n",
    "time = {}\n",
    "stations = range(52)\n",
    "for i in stations:\n",
    "    for j in stations:\n",
    "        d = int(Stations_demandes[i][1:])\n",
    "        a = int(Stations_demandes[j][1:])\n",
    "        time[(i, j)] = Time[(d, a)]\n",
    "    "
   ]
  },
  {
   "cell_type": "markdown",
   "id": "36ab7e63",
   "metadata": {},
   "source": [
    "## Définition des variables"
   ]
  },
  {
   "cell_type": "markdown",
   "id": "77b06a3a",
   "metadata": {},
   "source": [
    "| Nom Variable \t| Type (entier, binaire, continue) \t| Description \t|\n",
    "|:------------:\t|:--------------------------------:\t|:-----------:\t|\n",
    "|  xijk    \t|            binaire        \t|  passage ou non du chauffeur k par l'arc (i,j) \t|\n",
    "|  Bik \t|            entier            \t|  le temps où le chauffeur k commence le service au noeud i\t|\n",
    "|  Lik \t|            entier           \t| le temps de trajet du client i dans la véhicule k\t|\n",
    "|  Qik  \t|            entier            \t|  la charge de la véhicule k après sa visite du noeud i \t|"
   ]
  },
  {
   "cell_type": "code",
   "execution_count": 8,
   "id": "a94a635a",
   "metadata": {},
   "outputs": [],
   "source": [
    "\n",
    "Xijk = {(i, j, k) : m.addVar(vtype = GRB.BINARY, name = f'x{i}_{j}_{k}') for i in stations for j in stations for k in chauffeurs}\n",
    "Bik = {(i, k) : m.addVar(vtype = GRB.INTEGER, name = f'B{i}_{k}') for i in stations for k in chauffeurs}\n",
    "Lik = {(i,k): m.addVar(vtype= GRB.INTEGER, name = f'L{i}_{k}') for i in Pickups for k in chauffeurs}\n",
    "Qik=  {(i,k): m.addVar(vtype= GRB.INTEGER, name = f'Q{i}_{k}') for i in stations for k in chauffeurs}\n"
   ]
  },
  {
   "cell_type": "markdown",
   "id": "4b15c208",
   "metadata": {},
   "source": [
    "## Définition des contraintes"
   ]
  },
  {
   "cell_type": "markdown",
   "id": "5a51cf46",
   "metadata": {},
   "source": [
    "<font color=blue><div align=\"center\"></div></font>\n",
    "\n",
    "$$\\mbox{Chaque demande est servie une seule fois : } \\;\\;\\; \\sum_{k\\in K }  \\sum_{j \\in N} x_{ij}^{k} <= 1 \\;\\;\\;   pour  \\;  tout  \\; i\\in P $$ "
   ]
  },
  {
   "cell_type": "code",
   "execution_count": 9,
   "id": "f5e4974e",
   "metadata": {},
   "outputs": [],
   "source": [
    "\n",
    "#Contrainte 1 :\n",
    "\n",
    "x_constr1 = {}\n",
    "for i in P:\n",
    "    x_constr1[i] = m.addConstr(quicksum([Xijk[(i,j,k)] for j in stations for k in chauffeurs]) <= 1, name = f'constr1{i}')\n"
   ]
  },
  {
   "cell_type": "markdown",
   "id": "a1e57119",
   "metadata": {},
   "source": [
    "<font color=blue><div align=\"center\"></div></font>\n",
    "\n",
    "$$ \\;\\;\\; \\sum_{k\\in K }  \\sum_{i \\in N} x_{ii}^{k} = 0 \\;\\;\\;$$ "
   ]
  },
  {
   "cell_type": "code",
   "execution_count": 10,
   "id": "2190321b",
   "metadata": {},
   "outputs": [],
   "source": [
    "x_constr67={}\n",
    "for k in chauffeurs:\n",
    "    x_constr67[k]=  m.addConstr(quicksum([Xijk[(i,i,k)] for i in stations]) == 0, name = f'constr5{k}')"
   ]
  },
  {
   "cell_type": "markdown",
   "id": "0d812400",
   "metadata": {},
   "source": [
    "<font color=blue><div align=\"center\"></div></font>\n",
    "\n",
    "$$\\mbox{the above constraint not correct and should be: } \\;\\;\\;  \\sum_{i \\in N} x_{i,2n+1}^{k} = 1 \\;\\;\\; $$ "
   ]
  },
  {
   "cell_type": "code",
   "execution_count": 11,
   "id": "f61716a7",
   "metadata": {},
   "outputs": [],
   "source": [
    "x_constr51={}\n",
    "for k in chauffeurs :\n",
    "    x_constr51[k]= m.addConstr(quicksum([Xijk[(i,51,k)] for i in range(51)]) == 1, name = f'constr51{k}')\n"
   ]
  },
  {
   "cell_type": "markdown",
   "id": "15428ed5",
   "metadata": {},
   "source": [
    "<font color=blue><div align=\"center\"></div></font>\n",
    "\n",
    "$$\\mbox{Chaque demande est servie une seule fois : } \\;\\;\\; \\sum_{j\\in N } x_{ij}^{k} - \\sum_{j\\in N } x_{n+i,j}^{k} = 0 \\;\\;\\;   pour  \\;  tout  \\; i\\in P \\; pour  \\;  tout  \\; k\\in K $$  "
   ]
  },
  {
   "cell_type": "code",
   "execution_count": 12,
   "id": "c890b7b9",
   "metadata": {},
   "outputs": [],
   "source": [
    "#contrainte2\n",
    "x_constr2 = {}\n",
    "for k in chauffeurs :\n",
    "    for i in P:\n",
    "        x_constr2[i,k] = m.addConstr(quicksum([Xijk[(i,j,k)] for j in stations]) - quicksum([Xijk[(n+i,j,k)] for j in stations]) == 0, name = f'constr2{i,k}')"
   ]
  },
  {
   "cell_type": "markdown",
   "id": "1e4f5120",
   "metadata": {},
   "source": [
    "<font color=blue><div align=\"center\"></div></font>\n",
    "\n",
    "$$\\mbox{La voiture commence par la station de départ : } \\;\\;\\; \\sum_{j\\in N } x_{0j}^{k} = 1 \\;\\;\\;   pour  \\;  tout  \\; k\\in K  $$ "
   ]
  },
  {
   "cell_type": "code",
   "execution_count": 13,
   "id": "e8aab8c8",
   "metadata": {},
   "outputs": [],
   "source": [
    "#Contrainte 3 : \n",
    "\n",
    "x_constr3 = {}\n",
    "for k in chauffeurs :\n",
    "    x_constr3[k] = m.addConstr(quicksum([Xijk[(0,j,k)] for j in range(1,52)]) == 1, name = f'constr3{k}')\n"
   ]
  },
  {
   "cell_type": "markdown",
   "id": "0f5629c2",
   "metadata": {},
   "source": [
    "<font color=blue><div align=\"center\"></div></font>\n",
    "\n",
    "$$\\mbox{Chaque client pris de la station doit être déposé  } \\;\\;\\; \\sum_{j\\in N } x_{ji}^{k} - \\sum_{j\\in N } x_{ij}^{k} = 0 \\;\\;\\;   pour  \\;  tout  \\; i\\in P\\cup\\ D \\; pour  \\;  tout  \\; k\\in K $$"
   ]
  },
  {
   "cell_type": "code",
   "execution_count": 14,
   "id": "f8260472",
   "metadata": {},
   "outputs": [],
   "source": [
    "#Contrainte 4 : \n",
    "\n",
    "x_constr4 = {}\n",
    "for k in  chauffeurs:\n",
    "    for i in range(1, 51):\n",
    "        Xji=quicksum([Xijk[(j,i,k)] for j in stations])\n",
    "        Xij=quicksum([Xijk[(i,j,k)] for j in stations])\n",
    "                      \n",
    "        x_constr4[i,k] = m.addConstr(Xji-Xij == 0, name = f'constr4{i,k}')"
   ]
  },
  {
   "cell_type": "markdown",
   "id": "6816322c",
   "metadata": {},
   "source": [
    "$$ e_{i} : Le \\; temps \\; le  \\;plus  \\; tôt  \\; où  \\;la  \\; course  \\; peut  \\; commencer \\; au \\;noeud\\;  i  si\\; i \\in P\\cup\\ D \\; \\;   $$ \n",
    "$$ l_{i} : Le \\; temps \\; le  \\;plus  \\; tard  \\; où  \\;la  \\; course  \\; peut  \\; commencer \\; au \\;noeud\\;  i  \\; si \\;i \\in P\\cup\\ D \\;  $$ \n"
   ]
  },
  {
   "cell_type": "code",
   "execution_count": 15,
   "id": "4605c274",
   "metadata": {},
   "outputs": [],
   "source": [
    "#dict des time window \n",
    "e={}\n",
    "l={}\n",
    "for i in P:\n",
    "    E=bookings[i-1]['jobs'][0]['timeWindowBeginDate']\n",
    "    L=bookings[i-1]['jobs'][0]['timeWindowEndDate']\n",
    "    e[i]=E\n",
    "    l[i]=L\n",
    "for i in P:\n",
    "    E=bookings[i-1]['jobs'][1]['timeWindowBeginDate']\n",
    "    L=bookings[i-1]['jobs'][1]['timeWindowEndDate']   \n",
    "    e[n+i]=E\n",
    "    l[n+i]=L\n",
    "\n"
   ]
  },
  {
   "cell_type": "markdown",
   "id": "5239d952",
   "metadata": {},
   "source": [
    "$$ e_{i} = min(min(e_{i} - t[0,i] \\; for\\; i \\in \\; P), min(e_{k})) $$\n",
    "$$ l_{i} = max(max(l_{i} - t[i,51] \\; for\\; i \\in \\; D), max(l_{k})) $$"
   ]
  },
  {
   "cell_type": "code",
   "execution_count": 16,
   "id": "8d378a9d",
   "metadata": {},
   "outputs": [],
   "source": [
    "e[0]=min(min(e[i]-time[0,i] for i in Pickups),min(shifts[k-1][\"jobs\"][0][\"timeDate\"] for k in K))\n",
    "e[51]=min(min(e[i]-time[0,i] for i in Pickups),min(shifts[k-1][\"jobs\"][0][\"timeDate\"] for k in K))\n",
    "l[0]=max(max(l[i]+time[i,51] for i in Dropoffs),max(shifts[k-1][\"jobs\"][1][\"timeDate\"] for k in K))\n",
    "l[51]=max(max(l[i]+time[i,51] for i in Dropoffs),max(shifts[k-1][\"jobs\"][1][\"timeDate\"] for k in K))\n"
   ]
  },
  {
   "cell_type": "markdown",
   "id": "17ce7148",
   "metadata": {},
   "source": [
    "$$ M_{ij}^{k} \\; tel\\; que: \\; max \\{0,l_{i}+d_{i}+t_{ij}-e_{i}\\} = M_{ij}^{k} $$ \n"
   ]
  },
  {
   "cell_type": "code",
   "execution_count": 17,
   "id": "123b67b2",
   "metadata": {},
   "outputs": [],
   "source": [
    "#definition de Mijk\n",
    "M={}\n",
    "\n",
    "for k in chauffeurs:\n",
    "    for i in N:   \n",
    "        for j in N:\n",
    "            M[(i,j,k)]=max(0,l[i]+60+time[(i,j)]-e[j])\n",
    "      "
   ]
  },
  {
   "cell_type": "markdown",
   "id": "90173dab",
   "metadata": {},
   "source": [
    "<font color=blue><div align=\"center\"></div></font>\n",
    "\n",
    "$$\\mbox{La cohérence de la variable temps  }  (B_{i}^{k} + d_{i}+ t_{ij}) x_{ij}^{k} \\leq  B_{j}^{k}  \\;\\;\\;   pour  \\;  tout  \\; i\\in N \\; , pour  \\;  tout  \\; j\\in N \\; , pour  \\;  tout  \\; k\\in K $$\n"
   ]
  },
  {
   "cell_type": "markdown",
   "id": "3699a1b0",
   "metadata": {},
   "source": [
    "<font color=blue><div align=\"center\"></div></font>\n",
    "\n",
    "$$\\mbox{contrainte 6 linéarisée }  B_{i}^{k} + d_{i}+ t_{ij}-M_{ij}^{k}(1-x_{ij}^{k}) \\leq  B_{j}^{k}  \\;\\;\\;   pour  \\;  tout  \\; i\\in N \\; , pour  \\;  tout  \\; j\\in N \\; , pour  \\;  tout  \\; k\\in K $$"
   ]
  },
  {
   "cell_type": "code",
   "execution_count": 18,
   "id": "7162d9b5",
   "metadata": {},
   "outputs": [],
   "source": [
    "#Contrainte6\n",
    "B_constr6={}\n",
    "for k in chauffeurs:\n",
    "    for i in N:\n",
    "        for j in N:\n",
    "            if i==0 or i==51:\n",
    "                d=0\n",
    "            else :\n",
    "                d=60\n",
    "            B_constr6[(i,j,k)]= m.addConstr(Bik[(j,k)]  >= (Bik[(i,k)] + d + time[(i,j)] -  M[(i,j,k)] * (1 - Xijk[(i,j,k)])) , name = f'constr6{i}_{j}_{k}')\n"
   ]
  },
  {
   "cell_type": "markdown",
   "id": "46a358ff",
   "metadata": {},
   "source": [
    "$$ W_{ij}^{k} \\; tel\\; que: \\; min \\{Q_{k},+Q_{k}+q_{i}\\} = W_{ij}^{k} $$ "
   ]
  },
  {
   "cell_type": "code",
   "execution_count": 19,
   "id": "0b9619f4",
   "metadata": {},
   "outputs": [],
   "source": [
    "#definition de Wijk\n",
    "W={}\n",
    "for k in chauffeurs : \n",
    "    Q=shifts[k-1][\"capacity\"]\n",
    "    for j in N:\n",
    "        for i in N:\n",
    "            W[(i,j,k)]=min(Q,Q+q[i])\n"
   ]
  },
  {
   "cell_type": "markdown",
   "id": "e7ffe811",
   "metadata": {},
   "source": [
    "<font color=blue><div align=\"center\"></div></font>\n",
    "\n",
    "$$\\mbox{La cohérence de la variable charge  }  (Q_{i}^{k} + q_{j}) x_{ij}^{k} \\leq  Q_{j}^{k}  \\;\\;\\;   pour  \\;  tout  \\; i\\in N \\; , pour  \\;  tout  \\; j\\in N \\; , pour  \\;  tout  \\; k\\in K $$"
   ]
  },
  {
   "cell_type": "markdown",
   "id": "5e2c0619",
   "metadata": {},
   "source": [
    "<font color=blue><div align=\"center\"></div></font>\n",
    "\n",
    "$$\\mbox{contrainte 7 linéarisée }  Q_{i}^{k} + q_{i}-W_{ij}^{k}(1-x_{ij}^{k}) \\leq  Q_{j}^{k}  \\;\\;\\;   pour  \\;  tout  \\; i\\in N \\; , pour  \\;  tout  \\; j\\in N \\; , pour  \\;  tout  \\; k\\in K $$"
   ]
  },
  {
   "cell_type": "code",
   "execution_count": 20,
   "id": "2b2efc64",
   "metadata": {},
   "outputs": [],
   "source": [
    "#contrainte7\n",
    "Q_constr={(i,j,k):m.addConstr(Qik[(j,k)]>=Qik[(i,k)]+q[j]-W[(i,j,k)]*(1-Xijk[(i,j,k)]), name='f_Constr7_{i}_{j}_{k}') for i in N for j in N for k in chauffeurs}       \n"
   ]
  },
  {
   "cell_type": "markdown",
   "id": "b0f24608",
   "metadata": {},
   "source": [
    "<font color=blue><div align=\"center\"></div></font>\n",
    "\n",
    "$$\\mbox{Le temps de trajet de chaque client : }  L_{i}^{k} = B_{n+i}^{k} - (B_{i}^{k} + d_{i}) pour  \\;  tout  \\; i\\in P \\;  , pour  \\;  tout  \\; k\\in K $$"
   ]
  },
  {
   "cell_type": "code",
   "execution_count": 21,
   "id": "9857db5d",
   "metadata": {},
   "outputs": [],
   "source": [
    "#contrainte8\n",
    "L_constr_1={(i,k): m.addConstr(Lik[(i,k)]== Bik[(n+i,k)]-Bik[(i,k)]-60, name=f'L_constr{(i,k)}') for k in chauffeurs for i in Pickups}            \n",
    "    \n",
    "    "
   ]
  },
  {
   "cell_type": "markdown",
   "id": "6f41cf92",
   "metadata": {},
   "source": [
    "<font color=blue><div align=\"center\"></div></font>\n",
    "\n",
    "$$\\mbox{Contrainte pour borner la durée de chaque route:  }  (B_{2n+1}^{k} - B_{0}^{k} ) \\leq  T^{k}  \\;\\;\\;   pour  \\;  tout  \\; k\\in K $$"
   ]
  },
  {
   "cell_type": "code",
   "execution_count": 22,
   "id": "9d8d7c8b",
   "metadata": {},
   "outputs": [],
   "source": [
    "#contrainte9\n",
    "B_constr_1 ={}\n",
    "B_constr_2 = {}\n",
    "for k in chauffeurs:\n",
    "    B_constr_1[k] = m.addConstr(Bik[(51,k)] <= shifts[k-1]['jobs'][1][\"timeDate\"], name=f'B_constr_1{k}')\n",
    "    B_constr_2[k] = m.addConstr(Bik[(0,k)] >= shifts[k-1]['jobs'][0][\"timeDate\"], name=f'B_constr_2{k}')"
   ]
  },
  {
   "cell_type": "markdown",
   "id": "fc8a2f7c",
   "metadata": {},
   "source": [
    "<font color=blue><div align=\"center\"></div></font>\n",
    "\n",
    "$$\\mbox{Contrainte sur l’heure de début de la course  }  e_{i} \\leq B_{i}^{k}  \\leq  l_{i}  \\;\\;\\;   pour  \\;  tout  \\; i\\in N \\; pour  \\;  tout  \\; k\\in K $$"
   ]
  },
  {
   "cell_type": "code",
   "execution_count": 23,
   "id": "5a59c873",
   "metadata": {},
   "outputs": [],
   "source": [
    "#contrainte 10\n",
    "B_constr_10_inf={(i,k):m.addConstr(e[i]<=Bik[(i,k)], name= f'Constr_11_inf_{i,k}') for i in N for k in chauffeurs}\n",
    "B_constr_10_sup={(i,k):m.addConstr(l[i]>=Bik[(i,k)], name= f'Constr_11_sup_{i,k}') for i in N for k in chauffeurs}\n"
   ]
  },
  {
   "cell_type": "code",
   "execution_count": 24,
   "id": "c6244a96",
   "metadata": {},
   "outputs": [],
   "source": [
    "#Contrainte chauffeurs\n",
    "B_constr_chauffeur={m.addConstr(shifts[k-1]['jobs'][0][\"timeDate\"] <=Bik[(0,k)], name= f'Constr_chauffeur_{0,k}') for k in chauffeurs}\n",
    "B_constr_chauffeur={m.addConstr(shifts[k-1]['jobs'][1][\"timeDate\"] <=Bik[(51,k)], name= f'Constr_chauffeur_{51,k}') for k in chauffeurs}"
   ]
  },
  {
   "cell_type": "markdown",
   "id": "15a283fc",
   "metadata": {},
   "source": [
    "<font color=blue><div align=\"center\"></div></font>\n",
    "\n",
    "$$\\mbox{Contrainte de durée maximale que le client ne doit pas dépasser : }  t_{i,n+i} \\leq L_{i}^{k}  \\leq  L  \\;\\;\\;   pour  \\;  tout  \\; i\\in P \\; pour  \\;  tout  \\; k\\in K $$"
   ]
  },
  {
   "cell_type": "code",
   "execution_count": 25,
   "id": "78c63f6e",
   "metadata": {},
   "outputs": [],
   "source": [
    "#contrainte 11\n",
    "L_constr_3={(i,k): m.addConstr(Lik[(i+1,k)]<= bookings[i]['maximumDuration'], name=f'L_constr_3{(i+1,k)}') for i in range(0,25) for k in chauffeurs}\n",
    "for k in chauffeurs:\n",
    "    for i in range(1,26): \n",
    "        L_constr_4={(i,k): m.addConstr(Lik[(i,k)]>= time[i,n+i], name=f'L_constr_4{(i,k)}')}\n"
   ]
  },
  {
   "cell_type": "markdown",
   "id": "39dd87a7",
   "metadata": {},
   "source": [
    "$$\\mbox{Contrainte de capacité de véhicule k: }  max (0,q_{i}) \\leq Q_{i}^{k}  \\leq  min(Q_{k},Q_{k}+ q_{i})  \\;\\;\\;   pour  \\;  tout \\; \\; i\\in N \\; pour  \\;  tout  \\; k\\in K $$"
   ]
  },
  {
   "cell_type": "code",
   "execution_count": 26,
   "id": "fe7ab690",
   "metadata": {},
   "outputs": [],
   "source": [
    "#Contrainte 12 \n",
    "Q_constrr={}\n",
    "Q_constr2={}\n",
    "for k in chauffeurs:\n",
    "    Q=shifts[k-1][\"capacity\"]\n",
    "    for i in N:\n",
    "        Q_constrr[(i,k)] = m.addConstr(Qik[(i,k)] >= max(0,q[i]) , name = f'Q_constr{(i,k)}')\n",
    "        Q_constr2[(i,k)] = m.addConstr(Qik[(i,k)] <= min(Q,Q+q[i]) , name = f'Q_constr{(i,k)}')"
   ]
  },
  {
   "cell_type": "markdown",
   "id": "b6eb7a79",
   "metadata": {},
   "source": [
    "<font color=blue><div align=\"center\"></div></font>\n",
    "\n",
    "$$\\mbox{Contrainte sur le revenu maximal de chaque chauffeur } \\;\\;\\; \\sum_{j\\in N }  \\sum_{i \\in P} x_{ij}^{k} r_{i} \\leq R_{k}  \\;\\;\\;   pour  \\;  tout  \\; k\\in K \\;  $$ "
   ]
  },
  {
   "cell_type": "code",
   "execution_count": 27,
   "id": "df87ad84",
   "metadata": {},
   "outputs": [],
   "source": [
    "#contrainte salaire\n",
    "for k in chauffeurs:\n",
    "    P_Constr={k: m.addConstr(quicksum([bookings[i-1][\"price\"]*Xijk[(i,j,k)] for i in Pickups for j in stations])<=shifts[k-1][\"maximumTurnover\"])}\n"
   ]
  },
  {
   "cell_type": "markdown",
   "id": "bf4bc958",
   "metadata": {},
   "source": [
    "# Objectif1:"
   ]
  },
  {
   "cell_type": "code",
   "execution_count": 28,
   "id": "c1966423",
   "metadata": {},
   "outputs": [],
   "source": [
    "# -- Ajout de la fonction objectif --\n",
    "\n",
    "        \n",
    "z=quicksum([Xijk[(i,j,k)] for i in Pickups for j in stations for k in chauffeurs ])\n",
    "m.setObjective(z, GRB.MAXIMIZE)\n",
    "\n",
    "# -- Choix d'un paramétrage d'affichage minimaliste --\n",
    "m.params.outputflag = 0 # mode muet\n",
    "\n",
    "# -- Mise à jour du modèle  --\n",
    "m.update()\n",
    "\n",
    "#-- Affichage en mode texte du PL --\n",
    "m.display()"
   ]
  },
  {
   "cell_type": "code",
   "execution_count": 29,
   "id": "70bc0abf",
   "metadata": {},
   "outputs": [],
   "source": [
    "start_time = tm.time()\n",
    "# -- Résolution --\n",
    "m.optimize()"
   ]
  },
  {
   "cell_type": "code",
   "execution_count": 30,
   "id": "b58f9098",
   "metadata": {},
   "outputs": [
    {
     "name": "stdout",
     "output_type": "stream",
     "text": [
      "Le chauffeur 1 effectue les courses suivantes: [(0, 19, 45000.0), (19, 44, 46092.0), (44, 18, 47210.0), (18, 15, 48802.0), (15, 43, 49098.0), (43, 40, 49734.0), (40, 13, 50429.0), (13, 38, 52500.0), (38, 51, 53131.0)]\n",
      "Le chauffeur 1 a  4 clients \n",
      "Le chauffeur 2 effectue les courses suivantes: [(0, 6, 31836.0), (6, 31, 37177.0), (31, 51, 37731.0)]\n",
      "Le chauffeur 2 a  1 clients \n",
      "Le chauffeur 3 effectue les courses suivantes: [(0, 9, 52708.0), (9, 34, 53700.0), (34, 17, 54664.0), (17, 42, 55500.0), (42, 24, 56173.0), (24, 49, 62093.0), (49, 51, 63089.0)]\n",
      "Le chauffeur 3 a  3 clients \n",
      "Le chauffeur 4 effectue les courses suivantes: [(0, 25, 36600.0), (25, 1, 42540.0), (1, 26, 42600.0), (26, 3, 43941.0), (3, 50, 44158.0), (50, 20, 44409.0), (20, 45, 44821.0), (45, 28, 45346.0), (28, 12, 45406.0), (12, 37, 46800.0), (37, 51, 47394.0)]\n",
      "Le chauffeur 4 a  5 clients \n",
      "Le chauffeur 5 effectue les courses suivantes: [(0, 2, 48600.0), (2, 27, 49800.0), (27, 11, 50584.0), (11, 36, 53700.0), (36, 10, 54504.0), (10, 35, 55358.0), (35, 5, 56008.0), (5, 30, 57300.0), (30, 51, 58061.0)]\n",
      "Le chauffeur 5 a  4 clients \n",
      "Le chauffeur 6 effectue les courses suivantes: [(0, 23, 34922.0), (23, 48, 36300.0), (48, 7, 37058.0), (7, 32, 42024.0), (32, 51, 44064.0)]\n",
      "Le chauffeur 6 a  2 clients \n",
      "Le chauffeur 7 effectue les courses suivantes: [(0, 16, 48600.0), (16, 41, 49340.0), (41, 8, 49983.0), (8, 4, 50992.0), (4, 29, 51600.0), (29, 33, 52231.0), (33, 14, 52648.0), (14, 39, 56452.0), (39, 51, 57277.0)]\n",
      "Le chauffeur 7 a  4 clients \n",
      "Le chauffeur 8 effectue les courses suivantes: [(0, 22, 31836.0), (22, 47, 32700.0), (47, 21, 33534.0), (21, 46, 36300.0), (46, 51, 36934.0)]\n",
      "Le chauffeur 8 a  2 clients \n",
      "Nombre maximal des clients servis :25\n",
      "Temps total de trajet :33375.0\n",
      "Le temps d'exécution de cette première instance est: 25.117225170135498 secondes\n"
     ]
    }
   ],
   "source": [
    "from operator import itemgetter\n",
    "if m.status == GRB.INFEASIBLE:\n",
    "    print(\"\\n LE PROGRAMME N'A PAS DE SOLUTION!!!\")\n",
    "elif m.status == GRB.UNBOUNDED:\n",
    "    print(\"\\n LE PROGRAMME EST NON BORNÉ!!!\")\n",
    "else:\n",
    "    client={}\n",
    "    res=0\n",
    "    L=[]\n",
    "    attrib={}\n",
    "    chemin={}\n",
    "    for k in chauffeurs:\n",
    "        chauffeur=[]\n",
    "        chemin[k]=[]\n",
    "        for i in N:\n",
    "            for j in N:\n",
    "                if Xijk[(i,j,k)].x==1 :\n",
    "                    chauffeur.append((i,j,Bik[(i,k)].x))\n",
    "                    res += time[(i,j)]\n",
    "                    if i not in chemin[k]:\n",
    "                        chemin[k].append(i)\n",
    "                    if j not in chemin[k]:\n",
    "                        chemin[k].append(j)\n",
    "            attrib[k]=chauffeur\n",
    "        c=0\n",
    "        for i in Pickups:\n",
    "            for j in N:\n",
    "                if Xijk[(i,j,k)].x==1 :\n",
    "                    c+=1\n",
    "        client[k]=c\n",
    "        print(\"Le chauffeur {} effectue les courses suivantes: {}\".format(k,sorted(chauffeur, key = itemgetter(2))))\n",
    "        L.append(sorted(chauffeur, key = itemgetter(2)))\n",
    "        print(\"Le chauffeur {} a  {} clients \".format(k,client[k]))\n",
    "\n",
    "print(\"Nombre maximal des clients servis :{}\".format(sum(client[k] for k in chauffeurs)))\n",
    "print(\"Temps total de trajet :{}\".format(res))\n",
    "\n",
    "\n",
    "\n",
    "print('Le temps d\\'exécution de cette première instance est: {} secondes'.format(tm.time() - start_time))"
   ]
  },
  {
   "cell_type": "code",
   "execution_count": 31,
   "id": "d1f7ae7a",
   "metadata": {},
   "outputs": [],
   "source": [
    "chemin={}\n",
    "for k in range(len(L)):\n",
    "    chemin[k+1] = []\n",
    "    for i in range(len(L[k])):\n",
    "        chemin[k+1].append(L[k][i][0])\n",
    "    chemin[k+1].append(51)"
   ]
  },
  {
   "cell_type": "code",
   "execution_count": 32,
   "id": "81665262",
   "metadata": {},
   "outputs": [
    {
     "data": {
      "text/plain": [
       "{1: [0, 19, 44, 18, 15, 43, 40, 13, 38, 51],\n",
       " 2: [0, 6, 31, 51],\n",
       " 3: [0, 9, 34, 17, 42, 24, 49, 51],\n",
       " 4: [0, 25, 1, 26, 3, 50, 20, 45, 28, 12, 37, 51],\n",
       " 5: [0, 2, 27, 11, 36, 10, 35, 5, 30, 51],\n",
       " 6: [0, 23, 48, 7, 32, 51],\n",
       " 7: [0, 16, 41, 8, 4, 29, 33, 14, 39, 51],\n",
       " 8: [0, 22, 47, 21, 46, 51]}"
      ]
     },
     "execution_count": 32,
     "metadata": {},
     "output_type": "execute_result"
    }
   ],
   "source": [
    "chemin"
   ]
  },
  {
   "cell_type": "code",
   "execution_count": 31,
   "id": "7c530e91",
   "metadata": {},
   "outputs": [],
   "source": [
    "c=0\n",
    "for v in client.values():\n",
    "    c+=v    #c nombre de clients servies"
   ]
  },
  {
   "cell_type": "code",
   "execution_count": 32,
   "id": "7a308e40",
   "metadata": {},
   "outputs": [
    {
     "name": "stdout",
     "output_type": "stream",
     "text": [
      "{'id': 3238042, 'jobs': [{'id': -9714126, 'time': 45000.0}, {'id': 24601133, 'time': 46092.0}, {'id': 24601134, 'time': 47210.0}, {'id': 25132978, 'time': 52500.0}, {'id': 25132979, 'time': 53131.0}, {'id': 25060099, 'time': 49098.0}, {'id': 25060100, 'time': 50429.0}, {'id': 24243975, 'time': 48802.0}, {'id': 24243977, 'time': 49734.0}, {'id': -9714125, 'time': 58800.0}]}\n",
      "{'id': 3238029, 'jobs': [{'id': -9714087, 'time': 31836.0}, {'id': 24102822, 'time': 37177.0}, {'id': 24102823, 'time': 37731.0}, {'id': -9714086, 'time': 41400.0}]}\n",
      "{'id': 3237957, 'jobs': [{'id': -9713871, 'time': 52708.0}, {'id': 25136432, 'time': 53700.0}, {'id': 25136433, 'time': 54664.0}, {'id': 24244025, 'time': 55500.0}, {'id': 24244027, 'time': 56173.0}, {'id': 24922563, 'time': 62093.0}, {'id': 24922564, 'time': 63089.0}, {'id': -9713870, 'time': 64200.0}]}\n",
      "{'id': 3237951, 'jobs': [{'id': -9713853, 'time': 36600.0}, {'id': 25037359, 'time': 42540.0}, {'id': 25037360, 'time': 44409.0}, {'id': 23926039, 'time': 42600.0}, {'id': 23926040, 'time': 43941.0}, {'id': 25109598, 'time': 44158.0}, {'id': 25109599, 'time': 45406.0}, {'id': 25139347, 'time': 46800.0}, {'id': 25139348, 'time': 47394.0}, {'id': 24758260, 'time': 44821.0}, {'id': 24758261, 'time': 45346.0}, {'id': -9713852, 'time': 48600.0}]}\n",
      "{'id': 3237862, 'jobs': [{'id': -9713586, 'time': 48600.0}, {'id': 23926210, 'time': 49800.0}, {'id': 23926211, 'time': 50584.0}, {'id': 25109204, 'time': 57300.0}, {'id': 25109205, 'time': 58061.0}, {'id': 25139379, 'time': 55358.0}, {'id': 25139380, 'time': 56008.0}, {'id': 25134864, 'time': 53700.0}, {'id': 25134865, 'time': 54504.0}, {'id': -9713585, 'time': 62400.0}]}\n",
      "{'id': 3237852, 'jobs': [{'id': -9713556, 'time': 34922.0}, {'id': 24861548, 'time': 36300.0}, {'id': 24861549, 'time': 37058.0}, {'id': 25140674, 'time': 42024.0}, {'id': 25140675, 'time': 44064.0}, {'id': -9713555, 'time': 45000.0}]}\n",
      "{'id': 3237789, 'jobs': [{'id': -9713367, 'time': 48600.0}, {'id': 24244107, 'time': 49340.0}, {'id': 24244108, 'time': 49983.0}, {'id': 25132378, 'time': 51600.0}, {'id': 25132379, 'time': 52231.0}, {'id': 25134522, 'time': 50992.0}, {'id': 25134523, 'time': 52648.0}, {'id': 25155923, 'time': 56452.0}, {'id': 25155924, 'time': 57277.0}, {'id': -9713366, 'time': 58800.0}]}\n",
      "{'id': 3237783, 'jobs': [{'id': -9713349, 'time': 31836.0}, {'id': 24873049, 'time': 32700.0}, {'id': 24873050, 'time': 33534.0}, {'id': 24758232, 'time': 36300.0}, {'id': 24758233, 'time': 36934.0}, {'id': -9713348, 'time': 41400.0}]}\n"
     ]
    }
   ],
   "source": [
    "with open(small_sized_data) as SmallSizedData:\n",
    "    reader = json.load(SmallSizedData)\n",
    "    booking = reader[\"bookings\"]\n",
    "    shift = reader[\"shifts\"]\n",
    "dict={\"nb_assigned_bookings\":c, 'route_cost': res, 'shifts': []}\n",
    "for k in chauffeurs:\n",
    "    dict1={'id':shift[k-1]['id'],'jobs':[]}\n",
    "    for i in chemin[k]:\n",
    "        if i==0:\n",
    "            dict1['jobs'].append({'id' : shift[k-1][\"jobs\"][0]['id'], 'time':Bik[(0,k)].x})\n",
    "           \n",
    "        if i!=0 and i!=51:\n",
    "            dict_pu={}\n",
    "            dict_do={}\n",
    "            if i<=25:\n",
    "                dict_pu['id']=id_stations[i]\n",
    "                dict_pu['time']= Bik[(i,k)].x\n",
    "                dict_do['id']=id_stations[25+i]\n",
    "                dict_do['time']= Bik[(25+i,k)].x  \n",
    "                dict1['jobs'].append(dict_pu)\n",
    "                dict1['jobs'].append(dict_do)\n",
    "        if i==51:\n",
    "            dict1['jobs'].append({'id' : shift[k-1][\"jobs\"][1]['id'], 'time':Bik[(51,k)].x})\n",
    "            \n",
    "    dict['shifts'].append(dict1)\n",
    "\n",
    "    print (dict1)\n",
    "    \n",
    "out_file = open(\"/Users/mac/Desktop/sortie.json\",\"w\")\n",
    "json.dump(dict, out_file)\n",
    "out_file.close()\n"
   ]
  },
  {
   "cell_type": "markdown",
   "id": "f00167c8",
   "metadata": {},
   "source": [
    "# Objectif2"
   ]
  },
  {
   "cell_type": "code",
   "execution_count": 28,
   "id": "c0332b5b",
   "metadata": {},
   "outputs": [],
   "source": [
    "# -- Ajout de la fonction objectif --\n",
    "Z=0\n",
    "for i in Pickups:\n",
    "    C = {i : m.addConstr(quicksum( [Xijk[i,j,k] for k in chauffeurs for j in stations]) == 1, name = f'Constr{i}')}\n",
    "\n",
    "for i in stations :\n",
    "    for j in stations :\n",
    "        for k in chauffeurs:\n",
    "            Z+=Xijk[(i,j,k)]*time[(i,j)]\n",
    "                \n",
    "m.setObjective(Z, GRB.MINIMIZE)\n",
    "\n",
    "# -- Choix d'un paramétrage d'affichage minimaliste --\n",
    "m.params.outputflag = 0 # mode muet\n",
    "\n",
    "# -- Mise à jour du modèle  --\n",
    "m.update()\n",
    "\n",
    "#-- Affichage en mode texte du PL --\n",
    "m.display()"
   ]
  },
  {
   "cell_type": "code",
   "execution_count": 29,
   "id": "106bd96c",
   "metadata": {},
   "outputs": [],
   "source": [
    "start_time = tm.time()\n",
    "# -- Résolution --\n",
    "m.optimize()"
   ]
  },
  {
   "cell_type": "code",
   "execution_count": 30,
   "id": "fe1b57a4",
   "metadata": {
    "scrolled": true
   },
   "outputs": [
    {
     "name": "stdout",
     "output_type": "stream",
     "text": [
      "Le chauffeur 1 effectue les courses suivantes: [(0, 19, 45000.0), (12, 37, 46800.0), (15, 43, 49998.0), (18, 15, 48802.0), (19, 12, 46357.0), (37, 44, 47394.0), (40, 51, 51645.0), (43, 40, 50902.0), (44, 18, 47859.0)] Il a 4 clients\n",
      "Le chauffeur 2 effectue les courses suivantes: [(0, 51, 31836.0)] Il a 0 clients\n",
      "Le chauffeur 3 effectue les courses suivantes: [(0, 10, 52708.0), (10, 17, 55388.0), (14, 35, 56755.0), (17, 14, 56400.0), (24, 49, 61248.0), (35, 42, 57368.0), (39, 24, 58339.0), (42, 39, 57922.0), (49, 51, 63888.0)] Il a 4 clients\n",
      "Le chauffeur 4 effectue les courses suivantes: [(0, 7, 36600.0), (1, 32, 42734.0), (3, 26, 44158.0), (7, 25, 42024.0), (20, 28, 44821.0), (25, 1, 42674.0), (26, 20, 44366.0), (28, 45, 45346.0), (32, 50, 43030.0), (45, 51, 45406.0), (50, 3, 44098.0)] Il a 5 clients\n",
      "Le chauffeur 5 effectue les courses suivantes: [(0, 16, 48600.0), (5, 30, 57300.0), (8, 33, 50119.0), (11, 36, 53700.0), (16, 8, 49702.0), (30, 51, 58061.0), (33, 41, 51011.0), (36, 5, 54504.0), (41, 11, 51802.0)] Il a 4 clients\n",
      "Le chauffeur 6 effectue les courses suivantes: [(0, 51, 34922.0)] Il a 0 clients\n",
      "Le chauffeur 7 effectue les courses suivantes: [(0, 2, 48600.0), (2, 27, 49800.0), (4, 13, 51600.0), (9, 34, 54600.0), (13, 38, 51660.0), (27, 4, 50584.0), (29, 9, 52351.0), (34, 51, 55564.0), (38, 29, 52291.0)] Il a 4 clients\n",
      "Le chauffeur 8 effectue les courses suivantes: [(0, 22, 31836.0), (6, 31, 37820.0), (21, 46, 36300.0), (22, 47, 32700.0), (23, 21, 36230.0), (31, 48, 38374.0), (46, 6, 36934.0), (47, 23, 33534.0), (48, 51, 38510.0)] Il a 4 clients\n",
      "Nombre maximal des clients servis :25\n",
      "Temps total de trajet :26525.0\n",
      "Le temps d'exécution de cette deuxième instance est: 100.97229385375977 secondes\n"
     ]
    }
   ],
   "source": [
    "from operator import itemgetter\n",
    "if m.status == GRB.INFEASIBLE:\n",
    "    print(\"\\n LE PROGRAMME N'A PAS DE SOLUTION!!!\")\n",
    "elif m.status == GRB.UNBOUNDED:\n",
    "    print(\"\\n LE PROGRAMME EST NON BORNÉ!!!\")\n",
    "else:\n",
    "    client={}\n",
    "    L=[]\n",
    "    res=0\n",
    "    attrib={}\n",
    "    for k in chauffeurs:\n",
    "        chauffeur=[]\n",
    "        for i in stations:\n",
    "            for j in stations:\n",
    "                if Xijk[(i,j,k)].x==1 :\n",
    "                    chauffeur.append((i,j,Bik[(i,k)].x))\n",
    "                    res += time[(i,j)]\n",
    "            attrib[k]=chauffeur\n",
    "        c=0\n",
    "        for i in Pickups:\n",
    "            for j in stations:\n",
    "                if Xijk[(i,j,k)].x==1 :\n",
    "                    c+=1\n",
    "        client[k]=c\n",
    "        print(\"Le chauffeur {} effectue les courses suivantes: {}\".format(k,chauffeur), \"Il a {} clients\".format(client[k]))\n",
    "        L.append(sorted(chauffeur, key = itemgetter(2)))\n",
    "print(\"Nombre maximal des clients servis :{}\".format(sum(client[k] for k in chauffeurs)))\n",
    "print(\"Temps total de trajet :{}\".format(res)) \n",
    "print('Le temps d\\'exécution de cette deuxième instance est: {} secondes'.format(tm.time() - start_time))"
   ]
  },
  {
   "cell_type": "code",
   "execution_count": 32,
   "id": "e29f0489",
   "metadata": {},
   "outputs": [
    {
     "data": {
      "text/plain": [
       "{1: [0, 19, 12, 37, 44, 18, 15, 43, 40, 51],\n",
       " 2: [0, 51],\n",
       " 3: [0, 10, 17, 14, 35, 42, 39, 24, 49, 51],\n",
       " 4: [0, 7, 25, 1, 32, 50, 3, 26, 20, 28, 45, 51],\n",
       " 5: [0, 16, 8, 33, 41, 11, 36, 5, 30, 51],\n",
       " 6: [0, 51],\n",
       " 7: [0, 2, 27, 4, 13, 38, 29, 9, 34, 51],\n",
       " 8: [0, 22, 47, 23, 21, 46, 6, 31, 48, 51]}"
      ]
     },
     "execution_count": 32,
     "metadata": {},
     "output_type": "execute_result"
    }
   ],
   "source": [
    "chemin={}\n",
    "for k in range(len(L)):\n",
    "    chemin[k+1] = []\n",
    "    for i in range(len(L[k])):\n",
    "        chemin[k+1].append(L[k][i][0])\n",
    "    chemin[k+1].append(51)\n",
    "chemin"
   ]
  },
  {
   "cell_type": "code",
   "execution_count": null,
   "id": "e460c1ae",
   "metadata": {},
   "outputs": [],
   "source": []
  }
 ],
 "metadata": {
  "kernelspec": {
   "display_name": "Python 3 (ipykernel)",
   "language": "python",
   "name": "python3"
  },
  "language_info": {
   "codemirror_mode": {
    "name": "ipython",
    "version": 3
   },
   "file_extension": ".py",
   "mimetype": "text/x-python",
   "name": "python",
   "nbconvert_exporter": "python",
   "pygments_lexer": "ipython3",
   "version": "3.8.12"
  }
 },
 "nbformat": 4,
 "nbformat_minor": 5
}
